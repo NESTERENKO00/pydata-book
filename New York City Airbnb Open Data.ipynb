{
 "cells": [
  {
   "cell_type": "markdown",
   "id": "f3bcf6ae",
   "metadata": {},
   "source": [
    "## EDA New York City Airbnb Open Data"
   ]
  },
  {
   "cell_type": "code",
   "execution_count": 2,
   "id": "8844d2b6",
   "metadata": {},
   "outputs": [],
   "source": [
    "import pandas as pd\n",
    "import numpy as np\n",
    "import matplotlib.pyplot as plt\n",
    "import matplotlib.image as mpimg\n",
    "%matplotlib inline\n",
    "import seaborn as sns\n",
    "from scipy import stats\n",
    "import statsmodels.api as sm\n",
    "import statsmodels.formula.api as smf\n",
    "from statsmodels.stats.multicomp import (pairwise_tukeyhsd,\n",
    "                                         MultiComparison)\n",
    "import scipy.stats as ss\n",
    "from scipy.stats import mannwhitneyu\n",
    "from wordcloud import WordCloud\n",
    "import geopandas as gpd\n",
    "from shapely import wkt"
   ]
  },
  {
   "cell_type": "markdown",
   "id": "661c42dc",
   "metadata": {},
   "source": [
    "**Информация про датасет**\n",
    "\n",
    "Датасет New York City Airbnb Open Data  описывает активность и показатели объявлений на площадке  Airbnb в Нью-Йорке, штат Нью-Йорк, за 2019 год.\n",
    "Датасет содержит около 49000 наблюдений с 16 столбцами и представляет собой смесь категориальных и числовых значений.\n",
    "\n",
    "**Наименование и описание столбцов:**\n",
    "- id - ID объявления\n",
    "- name - Название объявления\n",
    "- host_id - ID хозяина / организатора\n",
    "-host_name - Наименование хозяина организатора\n",
    "-neighbourhood_group -  Район Нью-Йорка\n",
    "-neighbourhood - Микрорайон Нью-Йорка\n",
    "-latitude - Координаты широты\n",
    "-longitude - Координаты долготы\n",
    "-room_type -Тип жилья\n",
    "-price - Цена в долларах\n",
    "-minimum_nights - Минимальное количество ночей, возможное для бронирования\n",
    "-number_of_reviews - Количество отзывов\n",
    "-last_review - Дата последнего отзыва\n",
    "-reviews_per_month - Среднее количество отзывов в месяц\n",
    "-callculated_host_listings_count - Число объявлений одного хозяина / организатора\n",
    "-availability_365 -  Количество дней, в течение которых объявление доступно для бронирования\n"
   ]
  },
  {
   "cell_type": "markdown",
   "id": "748237fb",
   "metadata": {},
   "source": [
    "\n",
    "**Основные  цели исследования**\n",
    "- Исследовать данные, выявить закономерности, визуализировать данные в виде графиков, на основе полученных результатов сделать выводы\n",
    "- Провеcти  корреляционно регрессионный анализа данных и определить факторы, которые влияют на формировние цены на\n",
    "  аренду жилья в Нью-Йорке\n",
    "- По изученным данным выбрать для себя идеальный объект размещения в городе  Нью-Йорк по заданным критериям\n"
   ]
  },
  {
   "cell_type": "code",
   "execution_count": 3,
   "id": "933708a1",
   "metadata": {},
   "outputs": [],
   "source": [
    "df = pd.read_csv(\"AB_NYC_2019.csv\")"
   ]
  },
  {
   "cell_type": "code",
   "execution_count": 4,
   "id": "539d947e",
   "metadata": {},
   "outputs": [
    {
     "data": {
      "text/html": [
       "<div>\n",
       "<style scoped>\n",
       "    .dataframe tbody tr th:only-of-type {\n",
       "        vertical-align: middle;\n",
       "    }\n",
       "\n",
       "    .dataframe tbody tr th {\n",
       "        vertical-align: top;\n",
       "    }\n",
       "\n",
       "    .dataframe thead th {\n",
       "        text-align: right;\n",
       "    }\n",
       "</style>\n",
       "<table border=\"1\" class=\"dataframe\">\n",
       "  <thead>\n",
       "    <tr style=\"text-align: right;\">\n",
       "      <th></th>\n",
       "      <th>id</th>\n",
       "      <th>name</th>\n",
       "      <th>host_id</th>\n",
       "      <th>host_name</th>\n",
       "      <th>neighbourhood_group</th>\n",
       "      <th>neighbourhood</th>\n",
       "      <th>latitude</th>\n",
       "      <th>longitude</th>\n",
       "      <th>room_type</th>\n",
       "      <th>price</th>\n",
       "      <th>minimum_nights</th>\n",
       "      <th>number_of_reviews</th>\n",
       "      <th>last_review</th>\n",
       "      <th>reviews_per_month</th>\n",
       "      <th>calculated_host_listings_count</th>\n",
       "      <th>availability_365</th>\n",
       "    </tr>\n",
       "  </thead>\n",
       "  <tbody>\n",
       "    <tr>\n",
       "      <th>0</th>\n",
       "      <td>2539</td>\n",
       "      <td>Clean &amp; quiet apt home by the park</td>\n",
       "      <td>2787</td>\n",
       "      <td>John</td>\n",
       "      <td>Brooklyn</td>\n",
       "      <td>Kensington</td>\n",
       "      <td>40.64749</td>\n",
       "      <td>-73.97237</td>\n",
       "      <td>Private room</td>\n",
       "      <td>149</td>\n",
       "      <td>1</td>\n",
       "      <td>9</td>\n",
       "      <td>2018-10-19</td>\n",
       "      <td>0.21</td>\n",
       "      <td>6</td>\n",
       "      <td>365</td>\n",
       "    </tr>\n",
       "    <tr>\n",
       "      <th>1</th>\n",
       "      <td>2595</td>\n",
       "      <td>Skylit Midtown Castle</td>\n",
       "      <td>2845</td>\n",
       "      <td>Jennifer</td>\n",
       "      <td>Manhattan</td>\n",
       "      <td>Midtown</td>\n",
       "      <td>40.75362</td>\n",
       "      <td>-73.98377</td>\n",
       "      <td>Entire home/apt</td>\n",
       "      <td>225</td>\n",
       "      <td>1</td>\n",
       "      <td>45</td>\n",
       "      <td>2019-05-21</td>\n",
       "      <td>0.38</td>\n",
       "      <td>2</td>\n",
       "      <td>355</td>\n",
       "    </tr>\n",
       "    <tr>\n",
       "      <th>2</th>\n",
       "      <td>3647</td>\n",
       "      <td>THE VILLAGE OF HARLEM....NEW YORK !</td>\n",
       "      <td>4632</td>\n",
       "      <td>Elisabeth</td>\n",
       "      <td>Manhattan</td>\n",
       "      <td>Harlem</td>\n",
       "      <td>40.80902</td>\n",
       "      <td>-73.94190</td>\n",
       "      <td>Private room</td>\n",
       "      <td>150</td>\n",
       "      <td>3</td>\n",
       "      <td>0</td>\n",
       "      <td>NaN</td>\n",
       "      <td>NaN</td>\n",
       "      <td>1</td>\n",
       "      <td>365</td>\n",
       "    </tr>\n",
       "    <tr>\n",
       "      <th>3</th>\n",
       "      <td>3831</td>\n",
       "      <td>Cozy Entire Floor of Brownstone</td>\n",
       "      <td>4869</td>\n",
       "      <td>LisaRoxanne</td>\n",
       "      <td>Brooklyn</td>\n",
       "      <td>Clinton Hill</td>\n",
       "      <td>40.68514</td>\n",
       "      <td>-73.95976</td>\n",
       "      <td>Entire home/apt</td>\n",
       "      <td>89</td>\n",
       "      <td>1</td>\n",
       "      <td>270</td>\n",
       "      <td>2019-07-05</td>\n",
       "      <td>4.64</td>\n",
       "      <td>1</td>\n",
       "      <td>194</td>\n",
       "    </tr>\n",
       "    <tr>\n",
       "      <th>4</th>\n",
       "      <td>5022</td>\n",
       "      <td>Entire Apt: Spacious Studio/Loft by central park</td>\n",
       "      <td>7192</td>\n",
       "      <td>Laura</td>\n",
       "      <td>Manhattan</td>\n",
       "      <td>East Harlem</td>\n",
       "      <td>40.79851</td>\n",
       "      <td>-73.94399</td>\n",
       "      <td>Entire home/apt</td>\n",
       "      <td>80</td>\n",
       "      <td>10</td>\n",
       "      <td>9</td>\n",
       "      <td>2018-11-19</td>\n",
       "      <td>0.10</td>\n",
       "      <td>1</td>\n",
       "      <td>0</td>\n",
       "    </tr>\n",
       "  </tbody>\n",
       "</table>\n",
       "</div>"
      ],
      "text/plain": [
       "     id                                              name  host_id  \\\n",
       "0  2539                Clean & quiet apt home by the park     2787   \n",
       "1  2595                             Skylit Midtown Castle     2845   \n",
       "2  3647               THE VILLAGE OF HARLEM....NEW YORK !     4632   \n",
       "3  3831                   Cozy Entire Floor of Brownstone     4869   \n",
       "4  5022  Entire Apt: Spacious Studio/Loft by central park     7192   \n",
       "\n",
       "     host_name neighbourhood_group neighbourhood  latitude  longitude  \\\n",
       "0         John            Brooklyn    Kensington  40.64749  -73.97237   \n",
       "1     Jennifer           Manhattan       Midtown  40.75362  -73.98377   \n",
       "2    Elisabeth           Manhattan        Harlem  40.80902  -73.94190   \n",
       "3  LisaRoxanne            Brooklyn  Clinton Hill  40.68514  -73.95976   \n",
       "4        Laura           Manhattan   East Harlem  40.79851  -73.94399   \n",
       "\n",
       "         room_type  price  minimum_nights  number_of_reviews last_review  \\\n",
       "0     Private room    149               1                  9  2018-10-19   \n",
       "1  Entire home/apt    225               1                 45  2019-05-21   \n",
       "2     Private room    150               3                  0         NaN   \n",
       "3  Entire home/apt     89               1                270  2019-07-05   \n",
       "4  Entire home/apt     80              10                  9  2018-11-19   \n",
       "\n",
       "   reviews_per_month  calculated_host_listings_count  availability_365  \n",
       "0               0.21                               6               365  \n",
       "1               0.38                               2               355  \n",
       "2                NaN                               1               365  \n",
       "3               4.64                               1               194  \n",
       "4               0.10                               1                 0  "
      ]
     },
     "execution_count": 4,
     "metadata": {},
     "output_type": "execute_result"
    }
   ],
   "source": [
    "df.head(5)"
   ]
  },
  {
   "cell_type": "code",
   "execution_count": 5,
   "id": "bda69f44",
   "metadata": {},
   "outputs": [
    {
     "data": {
      "text/plain": [
       "(48895, 16)"
      ]
     },
     "execution_count": 5,
     "metadata": {},
     "output_type": "execute_result"
    }
   ],
   "source": [
    "#Датасет содержит около 48895 наблюдений с 16 столбцами\n",
    "df.shape"
   ]
  },
  {
   "cell_type": "code",
   "execution_count": 6,
   "id": "72d00f08",
   "metadata": {},
   "outputs": [
    {
     "data": {
      "text/plain": [
       "id                                  int64\n",
       "name                               object\n",
       "host_id                             int64\n",
       "host_name                          object\n",
       "neighbourhood_group                object\n",
       "neighbourhood                      object\n",
       "latitude                          float64\n",
       "longitude                         float64\n",
       "room_type                          object\n",
       "price                               int64\n",
       "minimum_nights                      int64\n",
       "number_of_reviews                   int64\n",
       "last_review                        object\n",
       "reviews_per_month                 float64\n",
       "calculated_host_listings_count      int64\n",
       "availability_365                    int64\n",
       "dtype: object"
      ]
     },
     "execution_count": 6,
     "metadata": {},
     "output_type": "execute_result"
    }
   ],
   "source": [
    "df.dtypes"
   ]
  },
  {
   "cell_type": "code",
   "execution_count": 7,
   "id": "456a1ac5",
   "metadata": {},
   "outputs": [
    {
     "data": {
      "text/plain": [
       "id                                    0\n",
       "name                                 16\n",
       "host_id                               0\n",
       "host_name                            21\n",
       "neighbourhood_group                   0\n",
       "neighbourhood                         0\n",
       "latitude                              0\n",
       "longitude                             0\n",
       "room_type                             0\n",
       "price                                 0\n",
       "minimum_nights                        0\n",
       "number_of_reviews                     0\n",
       "last_review                       10052\n",
       "reviews_per_month                 10052\n",
       "calculated_host_listings_count        0\n",
       "availability_365                      0\n",
       "dtype: int64"
      ]
     },
     "execution_count": 7,
     "metadata": {},
     "output_type": "execute_result"
    }
   ],
   "source": [
    "# Проверяем датасет на наличие отсутствующих значений.\n",
    "# В столбцах last_review  и reviews_per_month отсутствует 10052 значений, что составляет 21% от общего числа\n",
    "#данных. \n",
    "df.isnull().sum()"
   ]
  },
  {
   "cell_type": "code",
   "execution_count": 8,
   "id": "c74dd292",
   "metadata": {},
   "outputs": [],
   "source": [
    "#Удаляем столбцы last_review  и reviews_per_month, чтобы не искажать результаты исследований, удалим столбец\n",
    "# name, так как он не представляет никакой роли для нашего анализа\n",
    "df.drop(['name','last_review','reviews_per_month' ], axis = 1, inplace = True)"
   ]
  },
  {
   "cell_type": "code",
   "execution_count": 9,
   "id": "ff318406",
   "metadata": {},
   "outputs": [
    {
     "data": {
      "text/html": [
       "<div>\n",
       "<style scoped>\n",
       "    .dataframe tbody tr th:only-of-type {\n",
       "        vertical-align: middle;\n",
       "    }\n",
       "\n",
       "    .dataframe tbody tr th {\n",
       "        vertical-align: top;\n",
       "    }\n",
       "\n",
       "    .dataframe thead th {\n",
       "        text-align: right;\n",
       "    }\n",
       "</style>\n",
       "<table border=\"1\" class=\"dataframe\">\n",
       "  <thead>\n",
       "    <tr style=\"text-align: right;\">\n",
       "      <th></th>\n",
       "      <th>id</th>\n",
       "      <th>host_id</th>\n",
       "      <th>host_name</th>\n",
       "      <th>neighbourhood_group</th>\n",
       "      <th>neighbourhood</th>\n",
       "      <th>latitude</th>\n",
       "      <th>longitude</th>\n",
       "      <th>room_type</th>\n",
       "      <th>price</th>\n",
       "      <th>minimum_nights</th>\n",
       "      <th>number_of_reviews</th>\n",
       "      <th>calculated_host_listings_count</th>\n",
       "      <th>availability_365</th>\n",
       "    </tr>\n",
       "  </thead>\n",
       "  <tbody>\n",
       "    <tr>\n",
       "      <th>0</th>\n",
       "      <td>2539</td>\n",
       "      <td>2787</td>\n",
       "      <td>John</td>\n",
       "      <td>Brooklyn</td>\n",
       "      <td>Kensington</td>\n",
       "      <td>40.64749</td>\n",
       "      <td>-73.97237</td>\n",
       "      <td>Private room</td>\n",
       "      <td>149</td>\n",
       "      <td>1</td>\n",
       "      <td>9</td>\n",
       "      <td>6</td>\n",
       "      <td>365</td>\n",
       "    </tr>\n",
       "    <tr>\n",
       "      <th>1</th>\n",
       "      <td>2595</td>\n",
       "      <td>2845</td>\n",
       "      <td>Jennifer</td>\n",
       "      <td>Manhattan</td>\n",
       "      <td>Midtown</td>\n",
       "      <td>40.75362</td>\n",
       "      <td>-73.98377</td>\n",
       "      <td>Entire home/apt</td>\n",
       "      <td>225</td>\n",
       "      <td>1</td>\n",
       "      <td>45</td>\n",
       "      <td>2</td>\n",
       "      <td>355</td>\n",
       "    </tr>\n",
       "    <tr>\n",
       "      <th>2</th>\n",
       "      <td>3647</td>\n",
       "      <td>4632</td>\n",
       "      <td>Elisabeth</td>\n",
       "      <td>Manhattan</td>\n",
       "      <td>Harlem</td>\n",
       "      <td>40.80902</td>\n",
       "      <td>-73.94190</td>\n",
       "      <td>Private room</td>\n",
       "      <td>150</td>\n",
       "      <td>3</td>\n",
       "      <td>0</td>\n",
       "      <td>1</td>\n",
       "      <td>365</td>\n",
       "    </tr>\n",
       "    <tr>\n",
       "      <th>3</th>\n",
       "      <td>3831</td>\n",
       "      <td>4869</td>\n",
       "      <td>LisaRoxanne</td>\n",
       "      <td>Brooklyn</td>\n",
       "      <td>Clinton Hill</td>\n",
       "      <td>40.68514</td>\n",
       "      <td>-73.95976</td>\n",
       "      <td>Entire home/apt</td>\n",
       "      <td>89</td>\n",
       "      <td>1</td>\n",
       "      <td>270</td>\n",
       "      <td>1</td>\n",
       "      <td>194</td>\n",
       "    </tr>\n",
       "    <tr>\n",
       "      <th>4</th>\n",
       "      <td>5022</td>\n",
       "      <td>7192</td>\n",
       "      <td>Laura</td>\n",
       "      <td>Manhattan</td>\n",
       "      <td>East Harlem</td>\n",
       "      <td>40.79851</td>\n",
       "      <td>-73.94399</td>\n",
       "      <td>Entire home/apt</td>\n",
       "      <td>80</td>\n",
       "      <td>10</td>\n",
       "      <td>9</td>\n",
       "      <td>1</td>\n",
       "      <td>0</td>\n",
       "    </tr>\n",
       "  </tbody>\n",
       "</table>\n",
       "</div>"
      ],
      "text/plain": [
       "     id  host_id    host_name neighbourhood_group neighbourhood  latitude  \\\n",
       "0  2539     2787         John            Brooklyn    Kensington  40.64749   \n",
       "1  2595     2845     Jennifer           Manhattan       Midtown  40.75362   \n",
       "2  3647     4632    Elisabeth           Manhattan        Harlem  40.80902   \n",
       "3  3831     4869  LisaRoxanne            Brooklyn  Clinton Hill  40.68514   \n",
       "4  5022     7192        Laura           Manhattan   East Harlem  40.79851   \n",
       "\n",
       "   longitude        room_type  price  minimum_nights  number_of_reviews  \\\n",
       "0  -73.97237     Private room    149               1                  9   \n",
       "1  -73.98377  Entire home/apt    225               1                 45   \n",
       "2  -73.94190     Private room    150               3                  0   \n",
       "3  -73.95976  Entire home/apt     89               1                270   \n",
       "4  -73.94399  Entire home/apt     80              10                  9   \n",
       "\n",
       "   calculated_host_listings_count  availability_365  \n",
       "0                               6               365  \n",
       "1                               2               355  \n",
       "2                               1               365  \n",
       "3                               1               194  \n",
       "4                               1                 0  "
      ]
     },
     "execution_count": 9,
     "metadata": {},
     "output_type": "execute_result"
    }
   ],
   "source": [
    "df.head(5)"
   ]
  },
  {
   "cell_type": "markdown",
   "id": "21392cca",
   "metadata": {},
   "source": [
    "Атрибут «availability_365» означает количество дней, в течение которых объект доступен для бронирования. Это означает, что общее количество дней, в течение которых работает объект размещения в течение года. Здесь значение 0 означает размещение, которое не эксплуатировалось в течение одного года, поэтому такие строки мы будем отбрасывать и сбрасывать индекс"
   ]
  },
  {
   "cell_type": "code",
   "execution_count": 10,
   "id": "13f0f59b",
   "metadata": {},
   "outputs": [
    {
     "data": {
      "text/plain": [
       "0      17533\n",
       "365     1295\n",
       "364      491\n",
       "1        408\n",
       "89       361\n",
       "       ...  \n",
       "195       26\n",
       "183       24\n",
       "196       24\n",
       "181       23\n",
       "202       20\n",
       "Name: availability_365, Length: 366, dtype: int64"
      ]
     },
     "execution_count": 10,
     "metadata": {},
     "output_type": "execute_result"
    }
   ],
   "source": [
    "#В датасет 17533 объявлений, которые не были активны в течение 2019 года\n",
    "df.availability_365.value_counts()"
   ]
  },
  {
   "cell_type": "code",
   "execution_count": 11,
   "id": "c9ce5f32",
   "metadata": {},
   "outputs": [],
   "source": [
    "#Удалим данные из датасета, \n",
    "#будем проводить анализ только по объявлениям, которые хотя бы 1 день были активны в течение 2019 года\n",
    "df = df.drop(df[df['availability_365']==0].index,axis = 0)\n",
    "df = df.reset_index()\n"
   ]
  },
  {
   "cell_type": "code",
   "execution_count": 12,
   "id": "83643bbc",
   "metadata": {},
   "outputs": [
    {
     "data": {
      "text/plain": [
       "31362"
      ]
     },
     "execution_count": 12,
     "metadata": {},
     "output_type": "execute_result"
    }
   ],
   "source": [
    "# Итоговый набор данных состоит из  31362 наблюдений\n",
    "len(df)"
   ]
  },
  {
   "cell_type": "code",
   "execution_count": 13,
   "id": "0eec6da2",
   "metadata": {},
   "outputs": [
    {
     "data": {
      "text/plain": [
       "index                             31362\n",
       "id                                31362\n",
       "host_id                           21809\n",
       "host_name                          8214\n",
       "neighbourhood_group                   5\n",
       "neighbourhood                       218\n",
       "latitude                          16038\n",
       "longitude                         13367\n",
       "room_type                             3\n",
       "price                               645\n",
       "minimum_nights                       99\n",
       "number_of_reviews                   388\n",
       "calculated_host_listings_count       47\n",
       "availability_365                    365\n",
       "dtype: int64"
      ]
     },
     "execution_count": 13,
     "metadata": {},
     "output_type": "execute_result"
    }
   ],
   "source": [
    "df.nunique()"
   ]
  },
  {
   "cell_type": "code",
   "execution_count": 14,
   "id": "092d9493",
   "metadata": {},
   "outputs": [
    {
     "data": {
      "text/plain": [
       "0"
      ]
     },
     "execution_count": 14,
     "metadata": {},
     "output_type": "execute_result"
    }
   ],
   "source": [
    "#Повторяющиеся значения в Датасете отсутствуют\n",
    "df.duplicated().sum()"
   ]
  },
  {
   "cell_type": "markdown",
   "id": "a3250df9",
   "metadata": {},
   "source": [
    "**HOST_ID**"
   ]
  },
  {
   "cell_type": "code",
   "execution_count": 15,
   "id": "b03d8808",
   "metadata": {},
   "outputs": [
    {
     "data": {
      "text/plain": [
       "219517861    327\n",
       "107434423    232\n",
       "30283594     121\n",
       "12243051      96\n",
       "137358866     92\n",
       "16098958      92\n",
       "61391963      86\n",
       "22541573      85\n",
       "200380610     65\n",
       "1475015       52\n",
       "7503643       50\n",
       "120762452     50\n",
       "205031545     49\n",
       "2856748       49\n",
       "190921808     47\n",
       "Name: host_id, dtype: int64"
      ]
     },
     "execution_count": 15,
     "metadata": {},
     "output_type": "execute_result"
    }
   ],
   "source": [
    "#Выведем ТОП 15 владельцев, которые разместили наибольшее число объявлений\n",
    "top15_host = df.host_id.value_counts().head(15)\n",
    "top15_host"
   ]
  },
  {
   "cell_type": "code",
   "execution_count": 16,
   "id": "69d44f7c",
   "metadata": {},
   "outputs": [
    {
     "data": {
      "text/html": [
       "<div>\n",
       "<style scoped>\n",
       "    .dataframe tbody tr th:only-of-type {\n",
       "        vertical-align: middle;\n",
       "    }\n",
       "\n",
       "    .dataframe tbody tr th {\n",
       "        vertical-align: top;\n",
       "    }\n",
       "\n",
       "    .dataframe thead th {\n",
       "        text-align: right;\n",
       "    }\n",
       "</style>\n",
       "<table border=\"1\" class=\"dataframe\">\n",
       "  <thead>\n",
       "    <tr style=\"text-align: right;\">\n",
       "      <th></th>\n",
       "      <th>host_id</th>\n",
       "      <th>count_listings</th>\n",
       "    </tr>\n",
       "  </thead>\n",
       "  <tbody>\n",
       "    <tr>\n",
       "      <th>0</th>\n",
       "      <td>219517861</td>\n",
       "      <td>327</td>\n",
       "    </tr>\n",
       "    <tr>\n",
       "      <th>1</th>\n",
       "      <td>107434423</td>\n",
       "      <td>232</td>\n",
       "    </tr>\n",
       "    <tr>\n",
       "      <th>2</th>\n",
       "      <td>30283594</td>\n",
       "      <td>121</td>\n",
       "    </tr>\n",
       "    <tr>\n",
       "      <th>3</th>\n",
       "      <td>12243051</td>\n",
       "      <td>96</td>\n",
       "    </tr>\n",
       "    <tr>\n",
       "      <th>4</th>\n",
       "      <td>137358866</td>\n",
       "      <td>92</td>\n",
       "    </tr>\n",
       "    <tr>\n",
       "      <th>5</th>\n",
       "      <td>16098958</td>\n",
       "      <td>92</td>\n",
       "    </tr>\n",
       "    <tr>\n",
       "      <th>6</th>\n",
       "      <td>61391963</td>\n",
       "      <td>86</td>\n",
       "    </tr>\n",
       "    <tr>\n",
       "      <th>7</th>\n",
       "      <td>22541573</td>\n",
       "      <td>85</td>\n",
       "    </tr>\n",
       "    <tr>\n",
       "      <th>8</th>\n",
       "      <td>200380610</td>\n",
       "      <td>65</td>\n",
       "    </tr>\n",
       "    <tr>\n",
       "      <th>9</th>\n",
       "      <td>1475015</td>\n",
       "      <td>52</td>\n",
       "    </tr>\n",
       "    <tr>\n",
       "      <th>10</th>\n",
       "      <td>7503643</td>\n",
       "      <td>50</td>\n",
       "    </tr>\n",
       "    <tr>\n",
       "      <th>11</th>\n",
       "      <td>120762452</td>\n",
       "      <td>50</td>\n",
       "    </tr>\n",
       "    <tr>\n",
       "      <th>12</th>\n",
       "      <td>205031545</td>\n",
       "      <td>49</td>\n",
       "    </tr>\n",
       "    <tr>\n",
       "      <th>13</th>\n",
       "      <td>2856748</td>\n",
       "      <td>49</td>\n",
       "    </tr>\n",
       "    <tr>\n",
       "      <th>14</th>\n",
       "      <td>190921808</td>\n",
       "      <td>47</td>\n",
       "    </tr>\n",
       "  </tbody>\n",
       "</table>\n",
       "</div>"
      ],
      "text/plain": [
       "      host_id  count_listings\n",
       "0   219517861             327\n",
       "1   107434423             232\n",
       "2    30283594             121\n",
       "3    12243051              96\n",
       "4   137358866              92\n",
       "5    16098958              92\n",
       "6    61391963              86\n",
       "7    22541573              85\n",
       "8   200380610              65\n",
       "9     1475015              52\n",
       "10    7503643              50\n",
       "11  120762452              50\n",
       "12  205031545              49\n",
       "13    2856748              49\n",
       "14  190921808              47"
      ]
     },
     "execution_count": 16,
     "metadata": {},
     "output_type": "execute_result"
    }
   ],
   "source": [
    "top15_host = pd.DataFrame(top15_host)\n",
    "top15_host.reset_index(inplace = True)\n",
    "top15_host.rename(columns={'index':'host_id', 'host_id' :'count_listings'}, inplace = True)\n",
    "top15_host"
   ]
  },
  {
   "cell_type": "code",
   "execution_count": 17,
   "id": "ff5ac2ce",
   "metadata": {},
   "outputs": [
    {
     "data": {
      "text/plain": [
       "[Text(0, 0, '1475015'),\n",
       " Text(1, 0, '2856748'),\n",
       " Text(2, 0, '7503643'),\n",
       " Text(3, 0, '12243051'),\n",
       " Text(4, 0, '16098958'),\n",
       " Text(5, 0, '22541573'),\n",
       " Text(6, 0, '30283594'),\n",
       " Text(7, 0, '61391963'),\n",
       " Text(8, 0, '107434423'),\n",
       " Text(9, 0, '120762452'),\n",
       " Text(10, 0, '137358866'),\n",
       " Text(11, 0, '190921808'),\n",
       " Text(12, 0, '200380610'),\n",
       " Text(13, 0, '205031545'),\n",
       " Text(14, 0, '219517861')]"
      ]
     },
     "execution_count": 17,
     "metadata": {},
     "output_type": "execute_result"
    },
    {
     "data": {
      "image/png": "[encoded data removed]",
      "text/plain": [
       "<Figure size 720x432 with 1 Axes>"
      ]
     },
     "metadata": {
      "needs_background": "light"
     },
     "output_type": "display_data"
    }
   ],
   "source": [
    " #Отобразим на графике ТОП 15 владельцев с наибольшим числом объявлений\n",
    " plt.figure(figsize =(10,6))\n",
    " viz1 = sns.barplot(x= 'host_id', y = 'count_listings', data = top15_host, palette = 'mako')\n",
    " viz1.set_title('Top15_Hosts')\n",
    " viz1.set_ylabel('Count of listings')\n",
    " viz1.set_xlabel('Host ID')\n",
    " viz1.set_xticklabels(viz1.get_xticklabels(), rotation=45)"
   ]
  },
  {
   "cell_type": "code",
   "execution_count": 18,
   "id": "bb1d3497",
   "metadata": {},
   "outputs": [
    {
     "name": "stdout",
     "output_type": "stream",
     "text": [
      "219517861 :  Sonder (NYC)\n",
      "107434423 :  Blueground\n",
      "30283594 :  Kara\n",
      "12243051 :  Sonder\n",
      "137358866 :  Kazuya\n",
      "16098958 :  Jeremy & Laura\n"
     ]
    }
   ],
   "source": [
    "top6_host_id = [219517861,107434423,30283594,12243051,137358866,16098958]\n",
    "for i in top6_host_id: \n",
    "    print(i,\": \",df[df['host_id']==i]['host_name'].unique()[0])"
   ]
  },
  {
   "cell_type": "code",
   "execution_count": 19,
   "id": "ce1d1954",
   "metadata": {},
   "outputs": [
    {
     "data": {
      "text/plain": [
       "Manhattan    9\n",
       "Brooklyn     2\n",
       "Queens       1\n",
       "Name: neighbourhood_group, dtype: int64"
      ]
     },
     "execution_count": 19,
     "metadata": {},
     "output_type": "execute_result"
    }
   ],
   "source": [
    "df_1 = df[df['host_id'].isin(top6_host_id)][['host_id','neighbourhood_group', 'room_type']]\n",
    "df_1.drop_duplicates(inplace = True)\n",
    "df_1['neighbourhood_group'].value_counts()\n"
   ]
  },
  {
   "cell_type": "code",
   "execution_count": 20,
   "id": "5d4e6d8f",
   "metadata": {},
   "outputs": [
    {
     "data": {
      "text/plain": [
       "Entire home/apt    7\n",
       "Private room       5\n",
       "Name: room_type, dtype: int64"
      ]
     },
     "execution_count": 20,
     "metadata": {},
     "output_type": "execute_result"
    }
   ],
   "source": [
    "df_1['room_type'].value_counts()"
   ]
  },
  {
   "cell_type": "code",
   "execution_count": 21,
   "id": "9bd3f2f6",
   "metadata": {},
   "outputs": [
    {
     "data": {
      "text/plain": [
       "1.4380301710303085"
      ]
     },
     "execution_count": 21,
     "metadata": {},
     "output_type": "execute_result"
    }
   ],
   "source": [
    "df.id.count()/df.host_id.nunique()"
   ]
  },
  {
   "cell_type": "markdown",
   "id": "9953dbdd",
   "metadata": {},
   "source": [
    " - В среднем на одного владельца 1,44 объявлений. Самое большое число объявлений 327 принадлежит владельцу Sonder (NYC). Это сеть отелей и апартаменто в Нью-Йорке, состоящая из 12 объектов для размещения.\n",
    " \n",
    "   https://www.sonder.com/destinations/new_york_city/search?sleeps=1&neighborhood=all_neighborhoods&bedroom_count=0&bed_count=1&bathroom_count=1&utm_medium=cpc&utm_source=google&utm_term=sonder+rentals+nyc&utm_campaign=15996984601\n",
    " \n",
    "- Владельцы, которые наиболее активно используют платформу Airbnb и предоставляют наибольшее количество предложений:\n",
    " Sonder(NYC), Blueground, Kara,Sonder, Kazuya,Jeremy & Laura.\n",
    "\n",
    "- Самые активные пользователи предлагают размещение в трех райноах Нью-Йорка: Manhattan,Brooklyn, Queens\n",
    "- Типы размещения: Entire home/apt, Private room "
   ]
  },
  {
   "cell_type": "markdown",
   "id": "2b572f34",
   "metadata": {},
   "source": [
    "**neighbourhood_group**"
   ]
  },
  {
   "cell_type": "code",
   "execution_count": 666,
   "id": "3ee6282d",
   "metadata": {},
   "outputs": [
    {
     "data": {
      "text/plain": [
       "218"
      ]
     },
     "execution_count": 666,
     "metadata": {},
     "output_type": "execute_result"
    }
   ],
   "source": [
    "df.neighbourhood.nunique()"
   ]
  },
  {
   "cell_type": "markdown",
   "id": "5ec929b2",
   "metadata": {},
   "source": [
    "**room_type**"
   ]
  },
  {
   "cell_type": "code",
   "execution_count": 23,
   "id": "f0231c75",
   "metadata": {},
   "outputs": [
    {
     "data": {
      "text/plain": [
       "array(['Private room', 'Entire home/apt', 'Shared room'], dtype=object)"
      ]
     },
     "execution_count": 23,
     "metadata": {},
     "output_type": "execute_result"
    }
   ],
   "source": [
    "#Выведем все наименования типов размещения\n",
    "df.room_type.unique()"
   ]
  },
  {
   "cell_type": "code",
   "execution_count": 24,
   "id": "bddf9356",
   "metadata": {},
   "outputs": [
    {
     "data": {
      "text/html": [
       "<div>\n",
       "<style scoped>\n",
       "    .dataframe tbody tr th:only-of-type {\n",
       "        vertical-align: middle;\n",
       "    }\n",
       "\n",
       "    .dataframe tbody tr th {\n",
       "        vertical-align: top;\n",
       "    }\n",
       "\n",
       "    .dataframe thead th {\n",
       "        text-align: right;\n",
       "    }\n",
       "</style>\n",
       "<table border=\"1\" class=\"dataframe\">\n",
       "  <thead>\n",
       "    <tr style=\"text-align: right;\">\n",
       "      <th></th>\n",
       "      <th>room_type</th>\n",
       "      <th>share</th>\n",
       "    </tr>\n",
       "  </thead>\n",
       "  <tbody>\n",
       "    <tr>\n",
       "      <th>0</th>\n",
       "      <td>Entire home/apt</td>\n",
       "      <td>0.527167</td>\n",
       "    </tr>\n",
       "    <tr>\n",
       "      <th>1</th>\n",
       "      <td>Private room</td>\n",
       "      <td>0.445284</td>\n",
       "    </tr>\n",
       "    <tr>\n",
       "      <th>2</th>\n",
       "      <td>Shared room</td>\n",
       "      <td>0.027549</td>\n",
       "    </tr>\n",
       "  </tbody>\n",
       "</table>\n",
       "</div>"
      ],
      "text/plain": [
       "         room_type     share\n",
       "0  Entire home/apt  0.527167\n",
       "1     Private room  0.445284\n",
       "2      Shared room  0.027549"
      ]
     },
     "execution_count": 24,
     "metadata": {},
     "output_type": "execute_result"
    }
   ],
   "source": [
    "room_type_share = df.room_type.value_counts(normalize = True)\n",
    "room_type_share = pd.DataFrame(room_type_share)\n",
    "room_type_share. reset_index(inplace = True)\n",
    "room_type_share.rename(columns = {'index': 'room_type', 'room_type': 'share'},inplace = True)\n",
    "room_type_share"
   ]
  },
  {
   "cell_type": "code",
   "execution_count": 27,
   "id": "130240a3",
   "metadata": {},
   "outputs": [
    {
     "data": {
      "image/png": "[encoded data removed]",
      "text/plain": [
       "<Figure size 432x432 with 1 Axes>"
      ]
     },
     "metadata": {},
     "output_type": "display_data"
    }
   ],
   "source": [
    "#Покажем на круговой диаграмме долю каждого типа размещения в объявлениях на платформе AIRBNB\n",
    "plt.figure(figsize =(6,6))\n",
    "colors = sns.color_palette('pastel')[0:5]\n",
    "viz_4 = plt.pie(room_type_share.share, colors = colors, labels=room_type_share.room_type , autopct='%.0f%%')\n",
    "plt.show()"
   ]
  },
  {
   "cell_type": "markdown",
   "id": "f5df4777",
   "metadata": {},
   "source": [
    "Чаще всего для размещение на сервисе Airbnb предлагаются номера/комнаты типа  Entire home/apt - аренда целой квартиры, дома и private room - аренда отдельной комнаты, самым редким типом размещения является Shared room - аренда комнаты на несколько человек, всего 3% от общего числа объявлений"
   ]
  },
  {
   "cell_type": "markdown",
   "id": "52ca5d38",
   "metadata": {},
   "source": [
    "**neighbourhood_group**"
   ]
  },
  {
   "cell_type": "code",
   "execution_count": 28,
   "id": "5493bd3a",
   "metadata": {},
   "outputs": [
    {
     "data": {
      "text/plain": [
       "array(['Brooklyn', 'Manhattan', 'Queens', 'Staten Island', 'Bronx'],\n",
       "      dtype=object)"
      ]
     },
     "execution_count": 28,
     "metadata": {},
     "output_type": "execute_result"
    }
   ],
   "source": [
    "#Выведем все наименования районов города Нью-Йорк\n",
    "df.neighbourhood_group.unique()"
   ]
  },
  {
   "cell_type": "code",
   "execution_count": 29,
   "id": "01ac1d6e",
   "metadata": {},
   "outputs": [
    {
     "data": {
      "text/html": [
       "<div>\n",
       "<style scoped>\n",
       "    .dataframe tbody tr th:only-of-type {\n",
       "        vertical-align: middle;\n",
       "    }\n",
       "\n",
       "    .dataframe tbody tr th {\n",
       "        vertical-align: top;\n",
       "    }\n",
       "\n",
       "    .dataframe thead th {\n",
       "        text-align: right;\n",
       "    }\n",
       "</style>\n",
       "<table border=\"1\" class=\"dataframe\">\n",
       "  <thead>\n",
       "    <tr style=\"text-align: right;\">\n",
       "      <th></th>\n",
       "      <th>neighbourhood_group</th>\n",
       "      <th>count</th>\n",
       "    </tr>\n",
       "  </thead>\n",
       "  <tbody>\n",
       "    <tr>\n",
       "      <th>0</th>\n",
       "      <td>Manhattan</td>\n",
       "      <td>13559</td>\n",
       "    </tr>\n",
       "    <tr>\n",
       "      <th>1</th>\n",
       "      <td>Brooklyn</td>\n",
       "      <td>12260</td>\n",
       "    </tr>\n",
       "    <tr>\n",
       "      <th>2</th>\n",
       "      <td>Queens</td>\n",
       "      <td>4298</td>\n",
       "    </tr>\n",
       "    <tr>\n",
       "      <th>3</th>\n",
       "      <td>Bronx</td>\n",
       "      <td>914</td>\n",
       "    </tr>\n",
       "    <tr>\n",
       "      <th>4</th>\n",
       "      <td>Staten Island</td>\n",
       "      <td>331</td>\n",
       "    </tr>\n",
       "  </tbody>\n",
       "</table>\n",
       "</div>"
      ],
      "text/plain": [
       "  neighbourhood_group  count\n",
       "0           Manhattan  13559\n",
       "1            Brooklyn  12260\n",
       "2              Queens   4298\n",
       "3               Bronx    914\n",
       "4       Staten Island    331"
      ]
     },
     "execution_count": 29,
     "metadata": {},
     "output_type": "execute_result"
    }
   ],
   "source": [
    "area_popularity = df.neighbourhood_group.value_counts().to_frame().reset_index()\n",
    "area_popularity.rename(columns = {'index': 'neighbourhood_group', 'neighbourhood_group': 'count'},inplace = True)\n",
    "area_popularity"
   ]
  },
  {
   "cell_type": "code",
   "execution_count": 36,
   "id": "42b56faa",
   "metadata": {},
   "outputs": [
    {
     "data": {
      "text/plain": [
       "<AxesSubplot:xlabel='neighbourhood_group', ylabel='count'>"
      ]
     },
     "execution_count": 36,
     "metadata": {},
     "output_type": "execute_result"
    },
    {
     "data": {
      "image/png": "[encoded data removed]",
      "text/plain": [
       "<Figure size 576x432 with 1 Axes>"
      ]
     },
     "metadata": {
      "needs_background": "light"
     },
     "output_type": "display_data"
    }
   ],
   "source": [
    "# Отобразим на графике самые популярные районы по кол-ву объявлений\n",
    "plt.figure(figsize =(8,6))\n",
    "sns.barplot(data = area_popularity , x ='neighbourhood_group',y ='count')"
   ]
  },
  {
   "cell_type": "markdown",
   "id": "ae13722e",
   "metadata": {},
   "source": [
    "Самыми популярными районами являются Манхеттен и Бруклин, больше всего предложений по аренде жилья в этих районах. Меньше всего предложений по размещению в районе Стейтен-Айленд"
   ]
  },
  {
   "cell_type": "markdown",
   "id": "aac520be",
   "metadata": {},
   "source": [
    "**neighbourhood**"
   ]
  },
  {
   "cell_type": "code",
   "execution_count": 37,
   "id": "49a5fad2",
   "metadata": {},
   "outputs": [
    {
     "data": {
      "text/plain": [
       "218"
      ]
     },
     "execution_count": 37,
     "metadata": {},
     "output_type": "execute_result"
    }
   ],
   "source": [
    "# Выведем кол-во микрорайонов в Нью-Йорке\n",
    "df.neighbourhood.nunique()"
   ]
  },
  {
   "cell_type": "code",
   "execution_count": 38,
   "id": "16e27b03",
   "metadata": {},
   "outputs": [
    {
     "ename": "ValueError",
     "evalue": "Only supported for TrueType fonts",
     "output_type": "error",
     "traceback": [
      "\u001b[0;31m---------------------------------------------------------------------------\u001b[0m",
      "\u001b[0;31mValueError\u001b[0m                                Traceback (most recent call last)",
      "Input \u001b[0;32mIn [38]\u001b[0m, in \u001b[0;36m<cell line: 2>\u001b[0;34m()\u001b[0m\n\u001b[1;32m      1\u001b[0m plt\u001b[38;5;241m.\u001b[39msubplots(figsize\u001b[38;5;241m=\u001b[39m(\u001b[38;5;241m10\u001b[39m,\u001b[38;5;241m10\u001b[39m))\n\u001b[0;32m----> 2\u001b[0m wordcloud \u001b[38;5;241m=\u001b[39m \u001b[43mWordCloud\u001b[49m\u001b[43m(\u001b[49m\u001b[43mbackground_color\u001b[49m\u001b[38;5;241;43m=\u001b[39;49m\u001b[38;5;124;43m'\u001b[39;49m\u001b[38;5;124;43mwhite\u001b[39;49m\u001b[38;5;124;43m'\u001b[39;49m\u001b[43m,\u001b[49m\u001b[43m \u001b[49m\u001b[43mwidth\u001b[49m\u001b[38;5;241;43m=\u001b[39;49m\u001b[38;5;241;43m1920\u001b[39;49m\u001b[43m,\u001b[49m\u001b[43mheight\u001b[49m\u001b[38;5;241;43m=\u001b[39;49m\u001b[38;5;241;43m1080\u001b[39;49m\u001b[43m)\u001b[49m\u001b[38;5;241;43m.\u001b[39;49m\u001b[43mgenerate\u001b[49m\u001b[43m(\u001b[49m\u001b[38;5;124;43m\"\u001b[39;49m\u001b[38;5;124;43m \u001b[39;49m\u001b[38;5;124;43m\"\u001b[39;49m\u001b[38;5;241;43m.\u001b[39;49m\u001b[43mjoin\u001b[49m\u001b[43m(\u001b[49m\u001b[43mdf\u001b[49m\u001b[38;5;241;43m.\u001b[39;49m\u001b[43mneighbourhood\u001b[49m\u001b[43m)\u001b[49m\u001b[43m)\u001b[49m\n\u001b[1;32m      3\u001b[0m plt\u001b[38;5;241m.\u001b[39mimshow(wordcloud)\n\u001b[1;32m      4\u001b[0m plt\u001b[38;5;241m.\u001b[39maxis(\u001b[38;5;124m'\u001b[39m\u001b[38;5;124moff\u001b[39m\u001b[38;5;124m'\u001b[39m)\n",
      "File \u001b[0;32m~/opt/anaconda3/lib/python3.9/site-packages/wordcloud/wordcloud.py:639\u001b[0m, in \u001b[0;36mWordCloud.generate\u001b[0;34m(self, text)\u001b[0m\n\u001b[1;32m    624\u001b[0m \u001b[38;5;28;01mdef\u001b[39;00m \u001b[38;5;21mgenerate\u001b[39m(\u001b[38;5;28mself\u001b[39m, text):\n\u001b[1;32m    625\u001b[0m     \u001b[38;5;124;03m\"\"\"Generate wordcloud from text.\u001b[39;00m\n\u001b[1;32m    626\u001b[0m \n\u001b[1;32m    627\u001b[0m \u001b[38;5;124;03m    The input \"text\" is expected to be a natural text. If you pass a sorted\u001b[39;00m\n\u001b[0;32m   (...)\u001b[0m\n\u001b[1;32m    637\u001b[0m \u001b[38;5;124;03m    self\u001b[39;00m\n\u001b[1;32m    638\u001b[0m \u001b[38;5;124;03m    \"\"\"\u001b[39;00m\n\u001b[0;32m--> 639\u001b[0m     \u001b[38;5;28;01mreturn\u001b[39;00m \u001b[38;5;28;43mself\u001b[39;49m\u001b[38;5;241;43m.\u001b[39;49m\u001b[43mgenerate_from_text\u001b[49m\u001b[43m(\u001b[49m\u001b[43mtext\u001b[49m\u001b[43m)\u001b[49m\n",
      "File \u001b[0;32m~/opt/anaconda3/lib/python3.9/site-packages/wordcloud/wordcloud.py:621\u001b[0m, in \u001b[0;36mWordCloud.generate_from_text\u001b[0;34m(self, text)\u001b[0m\n\u001b[1;32m    604\u001b[0m \u001b[38;5;124;03m\"\"\"Generate wordcloud from text.\u001b[39;00m\n\u001b[1;32m    605\u001b[0m \n\u001b[1;32m    606\u001b[0m \u001b[38;5;124;03mThe input \"text\" is expected to be a natural text. If you pass a sorted\u001b[39;00m\n\u001b[0;32m   (...)\u001b[0m\n\u001b[1;32m    618\u001b[0m \u001b[38;5;124;03mself\u001b[39;00m\n\u001b[1;32m    619\u001b[0m \u001b[38;5;124;03m\"\"\"\u001b[39;00m\n\u001b[1;32m    620\u001b[0m words \u001b[38;5;241m=\u001b[39m \u001b[38;5;28mself\u001b[39m\u001b[38;5;241m.\u001b[39mprocess_text(text)\n\u001b[0;32m--> 621\u001b[0m \u001b[38;5;28;43mself\u001b[39;49m\u001b[38;5;241;43m.\u001b[39;49m\u001b[43mgenerate_from_frequencies\u001b[49m\u001b[43m(\u001b[49m\u001b[43mwords\u001b[49m\u001b[43m)\u001b[49m\n\u001b[1;32m    622\u001b[0m \u001b[38;5;28;01mreturn\u001b[39;00m \u001b[38;5;28mself\u001b[39m\n",
      "File \u001b[0;32m~/opt/anaconda3/lib/python3.9/site-packages/wordcloud/wordcloud.py:453\u001b[0m, in \u001b[0;36mWordCloud.generate_from_frequencies\u001b[0;34m(self, frequencies, max_font_size)\u001b[0m\n\u001b[1;32m    451\u001b[0m     font_size \u001b[38;5;241m=\u001b[39m \u001b[38;5;28mself\u001b[39m\u001b[38;5;241m.\u001b[39mheight\n\u001b[1;32m    452\u001b[0m \u001b[38;5;28;01melse\u001b[39;00m:\n\u001b[0;32m--> 453\u001b[0m     \u001b[38;5;28;43mself\u001b[39;49m\u001b[38;5;241;43m.\u001b[39;49m\u001b[43mgenerate_from_frequencies\u001b[49m\u001b[43m(\u001b[49m\u001b[38;5;28;43mdict\u001b[39;49m\u001b[43m(\u001b[49m\u001b[43mfrequencies\u001b[49m\u001b[43m[\u001b[49m\u001b[43m:\u001b[49m\u001b[38;5;241;43m2\u001b[39;49m\u001b[43m]\u001b[49m\u001b[43m)\u001b[49m\u001b[43m,\u001b[49m\n\u001b[1;32m    454\u001b[0m \u001b[43m                                   \u001b[49m\u001b[43mmax_font_size\u001b[49m\u001b[38;5;241;43m=\u001b[39;49m\u001b[38;5;28;43mself\u001b[39;49m\u001b[38;5;241;43m.\u001b[39;49m\u001b[43mheight\u001b[49m\u001b[43m)\u001b[49m\n\u001b[1;32m    455\u001b[0m     \u001b[38;5;66;03m# find font sizes\u001b[39;00m\n\u001b[1;32m    456\u001b[0m     sizes \u001b[38;5;241m=\u001b[39m [x[\u001b[38;5;241m1\u001b[39m] \u001b[38;5;28;01mfor\u001b[39;00m x \u001b[38;5;129;01min\u001b[39;00m \u001b[38;5;28mself\u001b[39m\u001b[38;5;241m.\u001b[39mlayout_]\n",
      "File \u001b[0;32m~/opt/anaconda3/lib/python3.9/site-packages/wordcloud/wordcloud.py:508\u001b[0m, in \u001b[0;36mWordCloud.generate_from_frequencies\u001b[0;34m(self, frequencies, max_font_size)\u001b[0m\n\u001b[1;32m    505\u001b[0m transposed_font \u001b[38;5;241m=\u001b[39m ImageFont\u001b[38;5;241m.\u001b[39mTransposedFont(\n\u001b[1;32m    506\u001b[0m     font, orientation\u001b[38;5;241m=\u001b[39morientation)\n\u001b[1;32m    507\u001b[0m \u001b[38;5;66;03m# get size of resulting text\u001b[39;00m\n\u001b[0;32m--> 508\u001b[0m box_size \u001b[38;5;241m=\u001b[39m \u001b[43mdraw\u001b[49m\u001b[38;5;241;43m.\u001b[39;49m\u001b[43mtextbbox\u001b[49m\u001b[43m(\u001b[49m\u001b[43m(\u001b[49m\u001b[38;5;241;43m0\u001b[39;49m\u001b[43m,\u001b[49m\u001b[43m \u001b[49m\u001b[38;5;241;43m0\u001b[39;49m\u001b[43m)\u001b[49m\u001b[43m,\u001b[49m\u001b[43m \u001b[49m\u001b[43mword\u001b[49m\u001b[43m,\u001b[49m\u001b[43m \u001b[49m\u001b[43mfont\u001b[49m\u001b[38;5;241;43m=\u001b[39;49m\u001b[43mtransposed_font\u001b[49m\u001b[43m,\u001b[49m\u001b[43m \u001b[49m\u001b[43manchor\u001b[49m\u001b[38;5;241;43m=\u001b[39;49m\u001b[38;5;124;43m\"\u001b[39;49m\u001b[38;5;124;43mlt\u001b[39;49m\u001b[38;5;124;43m\"\u001b[39;49m\u001b[43m)\u001b[49m\n\u001b[1;32m    509\u001b[0m \u001b[38;5;66;03m# find possible places using integral image:\u001b[39;00m\n\u001b[1;32m    510\u001b[0m result \u001b[38;5;241m=\u001b[39m occupancy\u001b[38;5;241m.\u001b[39msample_position(box_size[\u001b[38;5;241m3\u001b[39m] \u001b[38;5;241m+\u001b[39m \u001b[38;5;28mself\u001b[39m\u001b[38;5;241m.\u001b[39mmargin,\n\u001b[1;32m    511\u001b[0m                                    box_size[\u001b[38;5;241m2\u001b[39m] \u001b[38;5;241m+\u001b[39m \u001b[38;5;28mself\u001b[39m\u001b[38;5;241m.\u001b[39mmargin,\n\u001b[1;32m    512\u001b[0m                                    random_state)\n",
      "File \u001b[0;32m~/opt/anaconda3/lib/python3.9/site-packages/PIL/ImageDraw.py:671\u001b[0m, in \u001b[0;36mImageDraw.textbbox\u001b[0;34m(self, xy, text, font, anchor, spacing, align, direction, features, language, stroke_width, embedded_color)\u001b[0m\n\u001b[1;32m    669\u001b[0m     font \u001b[38;5;241m=\u001b[39m \u001b[38;5;28mself\u001b[39m\u001b[38;5;241m.\u001b[39mgetfont()\n\u001b[1;32m    670\u001b[0m \u001b[38;5;28;01mif\u001b[39;00m \u001b[38;5;129;01mnot\u001b[39;00m \u001b[38;5;28misinstance\u001b[39m(font, ImageFont\u001b[38;5;241m.\u001b[39mFreeTypeFont):\n\u001b[0;32m--> 671\u001b[0m     \u001b[38;5;28;01mraise\u001b[39;00m \u001b[38;5;167;01mValueError\u001b[39;00m(\u001b[38;5;124m\"\u001b[39m\u001b[38;5;124mOnly supported for TrueType fonts\u001b[39m\u001b[38;5;124m\"\u001b[39m)\n\u001b[1;32m    672\u001b[0m mode \u001b[38;5;241m=\u001b[39m \u001b[38;5;124m\"\u001b[39m\u001b[38;5;124mRGBA\u001b[39m\u001b[38;5;124m\"\u001b[39m \u001b[38;5;28;01mif\u001b[39;00m embedded_color \u001b[38;5;28;01melse\u001b[39;00m \u001b[38;5;28mself\u001b[39m\u001b[38;5;241m.\u001b[39mfontmode\n\u001b[1;32m    673\u001b[0m bbox \u001b[38;5;241m=\u001b[39m font\u001b[38;5;241m.\u001b[39mgetbbox(\n\u001b[1;32m    674\u001b[0m     text, mode, direction, features, language, stroke_width, anchor\n\u001b[1;32m    675\u001b[0m )\n",
      "\u001b[0;31mValueError\u001b[0m: Only supported for TrueType fonts"
     ]
    },
    {
     "data": {
      "image/png": "[encoded data removed]",
      "text/plain": [
       "<Figure size 720x720 with 1 Axes>"
      ]
     },
     "metadata": {
      "needs_background": "light"
     },
     "output_type": "display_data"
    }
   ],
   "source": [
    "plt.subplots(figsize=(10,10))\n",
    "wordcloud = WordCloud(background_color='white', width=1920,height=1080).generate(\" \".join(df.neighbourhood))\n",
    "plt.imshow(wordcloud)\n",
    "plt.axis('off')\n",
    "plt.show()"
   ]
  },
  {
   "cell_type": "markdown",
   "id": "da5e1028",
   "metadata": {},
   "source": [
    "**Price**"
   ]
  },
  {
   "cell_type": "code",
   "execution_count": 39,
   "id": "17253768",
   "metadata": {},
   "outputs": [
    {
     "data": {
      "text/plain": [
       "count    31362.000000\n",
       "mean       162.050475\n",
       "std        254.425463\n",
       "min          0.000000\n",
       "25%         70.000000\n",
       "50%        111.500000\n",
       "75%        189.000000\n",
       "max      10000.000000\n",
       "Name: price, dtype: float64"
      ]
     },
     "execution_count": 39,
     "metadata": {},
     "output_type": "execute_result"
    }
   ],
   "source": [
    "df.price.describe()"
   ]
  },
  {
   "cell_type": "markdown",
   "id": "aaaba92e",
   "metadata": {},
   "source": [
    "Средняя цена за ночь в объявлениях airnbn составляет 162 долл, максимальная цена 10000  - это будет являться \n",
    "статистическим выбросом, так как медиана 111.5, а 75  процентиль 189. \n",
    "Наглядно выбросы можно увидеть на визуализации.\n"
   ]
  },
  {
   "cell_type": "code",
   "execution_count": 40,
   "id": "3f877f29",
   "metadata": {},
   "outputs": [
    {
     "data": {
      "text/plain": [
       "<AxesSubplot:xlabel='id', ylabel='price'>"
      ]
     },
     "execution_count": 40,
     "metadata": {},
     "output_type": "execute_result"
    },
    {
     "data": {
      "image/png": "[encoded data removed]",
      "text/plain": [
       "<Figure size 432x288 with 1 Axes>"
      ]
     },
     "metadata": {
      "needs_background": "light"
     },
     "output_type": "display_data"
    }
   ],
   "source": [
    "df.plot.scatter(x = 'id', y = 'price')"
   ]
  },
  {
   "cell_type": "markdown",
   "id": "7f051626",
   "metadata": {},
   "source": [
    "Для расчета средней цены аренды жилья без учета статистических выбросов удалим все значения цены, которые не попали в 99 персентиль, а также удалим цены с нулевыми значениями"
   ]
  },
  {
   "cell_type": "code",
   "execution_count": 41,
   "id": "3bd73f51",
   "metadata": {},
   "outputs": [
    {
     "data": {
      "text/plain": [
       "823.1699999999983"
      ]
     },
     "execution_count": 41,
     "metadata": {},
     "output_type": "execute_result"
    }
   ],
   "source": [
    "q = df['price'].quantile(0.99)\n",
    "q"
   ]
  },
  {
   "cell_type": "code",
   "execution_count": 42,
   "id": "3f923c59",
   "metadata": {},
   "outputs": [
    {
     "data": {
      "text/plain": [
       "count    31040.000000\n",
       "mean       145.487146\n",
       "std        113.849731\n",
       "min         10.000000\n",
       "25%         70.000000\n",
       "50%        110.000000\n",
       "75%        185.000000\n",
       "max        822.000000\n",
       "Name: price, dtype: float64"
      ]
     },
     "execution_count": 42,
     "metadata": {},
     "output_type": "execute_result"
    }
   ],
   "source": [
    "mean_price = df[(df['price'] < q) & (df['price']>0)]\n",
    "mean_price. price.describe()"
   ]
  },
  {
   "cell_type": "markdown",
   "id": "8a299bc4",
   "metadata": {},
   "source": [
    "Исключив статисчиские выбросы, объявления с ценами более 823 долл за ночь, \n",
    "которые составляют всего 1% от общего числа объявлений и нулевые значения, получаем среднюю цену аренды жилья в Нью-йорк 145 долл за ночь"
   ]
  },
  {
   "cell_type": "code",
   "execution_count": 43,
   "id": "8b491757",
   "metadata": {},
   "outputs": [
    {
     "data": {
      "text/plain": [
       "<AxesSubplot:>"
      ]
     },
     "execution_count": 43,
     "metadata": {},
     "output_type": "execute_result"
    },
    {
     "data": {
      "image/png": "[encoded data removed]",
      "text/plain": [
       "<Figure size 432x288 with 1 Axes>"
      ]
     },
     "metadata": {
      "needs_background": "light"
     },
     "output_type": "display_data"
    }
   ],
   "source": [
    "mean_price. price.hist()"
   ]
  },
  {
   "cell_type": "markdown",
   "id": "561e6689",
   "metadata": {},
   "source": [
    "На гистограмме представлено распределение цен, где очевидно, что на дорогие варианты размещения предложений на сервисе AIRBNB гораздо меньше и уменьшается с ростом цены на жилье. \n",
    "Посмотрим будет ли данное распределение цен одинаково для каждого района Нью-Йорк в отдельности"
   ]
  },
  {
   "cell_type": "code",
   "execution_count": 44,
   "id": "70fdadad",
   "metadata": {},
   "outputs": [
    {
     "data": {
      "text/plain": [
       "array([[<AxesSubplot:title={'center':'Bronx'}>,\n",
       "        <AxesSubplot:title={'center':'Brooklyn'}>],\n",
       "       [<AxesSubplot:title={'center':'Manhattan'}>,\n",
       "        <AxesSubplot:title={'center':'Queens'}>],\n",
       "       [<AxesSubplot:title={'center':'Staten Island'}>, <AxesSubplot:>]],\n",
       "      dtype=object)"
      ]
     },
     "execution_count": 44,
     "metadata": {},
     "output_type": "execute_result"
    },
    {
     "data": {
      "image/png": "[encoded data removed]",
      "text/plain": [
       "<Figure size 720x576 with 6 Axes>"
      ]
     },
     "metadata": {
      "needs_background": "light"
     },
     "output_type": "display_data"
    }
   ],
   "source": [
    "v = mean_price.hist(column = 'price', by = 'neighbourhood_group', grid = False, sharex = True, figsize = (10,8))\n",
    "v"
   ]
  },
  {
   "cell_type": "markdown",
   "id": "7e296857",
   "metadata": {},
   "source": [
    "  На гистограммах видно, что цены в различных райнах Нью-Йорк распределены примерно одинаково, за исключение Манхэттен, в котором кол-во объявлений со средними ценами больше, чем объявлений с более дешевыми вариантами размещения.\n",
    "\n"
   ]
  },
  {
   "cell_type": "markdown",
   "id": "322a64ee",
   "metadata": {},
   "source": [
    "Сгрупируем данные по районам Нью-Йорк и оценим стоимость аренда жилья в каждом из них, и поссмотрим наглядно распределение цен по районам с помощью графика boxplot "
   ]
  },
  {
   "cell_type": "code",
   "execution_count": 45,
   "id": "37961716",
   "metadata": {},
   "outputs": [
    {
     "data": {
      "text/html": [
       "<div>\n",
       "<style scoped>\n",
       "    .dataframe tbody tr th:only-of-type {\n",
       "        vertical-align: middle;\n",
       "    }\n",
       "\n",
       "    .dataframe tbody tr th {\n",
       "        vertical-align: top;\n",
       "    }\n",
       "\n",
       "    .dataframe thead tr th {\n",
       "        text-align: left;\n",
       "    }\n",
       "</style>\n",
       "<table border=\"1\" class=\"dataframe\">\n",
       "  <thead>\n",
       "    <tr>\n",
       "      <th></th>\n",
       "      <th colspan=\"5\" halign=\"left\">price</th>\n",
       "    </tr>\n",
       "    <tr>\n",
       "      <th>neighbourhood_group</th>\n",
       "      <th>Bronx</th>\n",
       "      <th>Brooklyn</th>\n",
       "      <th>Manhattan</th>\n",
       "      <th>Queens</th>\n",
       "      <th>Staten Island</th>\n",
       "    </tr>\n",
       "  </thead>\n",
       "  <tbody>\n",
       "    <tr>\n",
       "      <th>count</th>\n",
       "      <td>911.00</td>\n",
       "      <td>12190.00</td>\n",
       "      <td>13326.00</td>\n",
       "      <td>4285.00</td>\n",
       "      <td>328.00</td>\n",
       "    </tr>\n",
       "    <tr>\n",
       "      <th>mean</th>\n",
       "      <td>85.46</td>\n",
       "      <td>124.04</td>\n",
       "      <td>186.46</td>\n",
       "      <td>95.86</td>\n",
       "      <td>93.17</td>\n",
       "    </tr>\n",
       "    <tr>\n",
       "      <th>std</th>\n",
       "      <td>73.56</td>\n",
       "      <td>95.62</td>\n",
       "      <td>128.26</td>\n",
       "      <td>71.78</td>\n",
       "      <td>77.32</td>\n",
       "    </tr>\n",
       "    <tr>\n",
       "      <th>min</th>\n",
       "      <td>10.00</td>\n",
       "      <td>10.00</td>\n",
       "      <td>10.00</td>\n",
       "      <td>10.00</td>\n",
       "      <td>13.00</td>\n",
       "    </tr>\n",
       "    <tr>\n",
       "      <th>25%</th>\n",
       "      <td>45.00</td>\n",
       "      <td>64.00</td>\n",
       "      <td>99.00</td>\n",
       "      <td>50.00</td>\n",
       "      <td>50.00</td>\n",
       "    </tr>\n",
       "    <tr>\n",
       "      <th>50%</th>\n",
       "      <td>65.00</td>\n",
       "      <td>99.00</td>\n",
       "      <td>150.00</td>\n",
       "      <td>75.00</td>\n",
       "      <td>75.00</td>\n",
       "    </tr>\n",
       "    <tr>\n",
       "      <th>75%</th>\n",
       "      <td>100.00</td>\n",
       "      <td>150.00</td>\n",
       "      <td>233.00</td>\n",
       "      <td>114.00</td>\n",
       "      <td>105.00</td>\n",
       "    </tr>\n",
       "    <tr>\n",
       "      <th>max</th>\n",
       "      <td>800.00</td>\n",
       "      <td>800.00</td>\n",
       "      <td>822.00</td>\n",
       "      <td>750.00</td>\n",
       "      <td>800.00</td>\n",
       "    </tr>\n",
       "  </tbody>\n",
       "</table>\n",
       "</div>"
      ],
      "text/plain": [
       "                      price                                           \n",
       "neighbourhood_group   Bronx  Brooklyn Manhattan   Queens Staten Island\n",
       "count                911.00  12190.00  13326.00  4285.00        328.00\n",
       "mean                  85.46    124.04    186.46    95.86         93.17\n",
       "std                   73.56     95.62    128.26    71.78         77.32\n",
       "min                   10.00     10.00     10.00    10.00         13.00\n",
       "25%                   45.00     64.00     99.00    50.00         50.00\n",
       "50%                   65.00     99.00    150.00    75.00         75.00\n",
       "75%                  100.00    150.00    233.00   114.00        105.00\n",
       "max                  800.00    800.00    822.00   750.00        800.00"
      ]
     },
     "execution_count": 45,
     "metadata": {},
     "output_type": "execute_result"
    }
   ],
   "source": [
    "area = mean_price[['neighbourhood_group','price' ]].reset_index() \n",
    "area_price = round(area.pivot_table(area, columns = 'neighbourhood_group', index = 'index').describe(),2)\n",
    "area_price"
   ]
  },
  {
   "cell_type": "code",
   "execution_count": 49,
   "id": "8c367d49",
   "metadata": {},
   "outputs": [
    {
     "data": {
      "text/plain": [
       "<AxesSubplot:xlabel='neighbourhood_group', ylabel='price'>"
      ]
     },
     "execution_count": 49,
     "metadata": {},
     "output_type": "execute_result"
    },
    {
     "data": {
      "image/png": "[encoded data removed]",
      "text/plain": [
       "<Figure size 576x432 with 1 Axes>"
      ]
     },
     "metadata": {
      "needs_background": "light"
     },
     "output_type": "display_data"
    }
   ],
   "source": [
    "plt.figure(figsize =(8,6))\n",
    "sns.boxplot(data= mean_price,x='neighbourhood_group',y='price')"
   ]
  },
  {
   "cell_type": "markdown",
   "id": "df57ba15",
   "metadata": {},
   "source": [
    "На основе вышеприведенной таблицы и графика можем сделать следующие выводы:\n",
    " - Манхэттен имеет самый высокий диапозон цен со средней ценой 186 долларов за ночь\n",
    " - Следующий по ценовому диапазону Бруклин со средней ценой 124 доллара\n",
    " - В  Квинс и Стейтен-Айленд распределение цен сопоставимо и средняя цена за ночь 96 и 93 доллара соответственно\n",
    " - Бронкс - самый дешевый район\n",
    " "
   ]
  },
  {
   "cell_type": "code",
   "execution_count": 50,
   "id": "1afb6f7b",
   "metadata": {},
   "outputs": [
    {
     "data": {
      "text/plain": [
       "<AxesSubplot:xlabel='neighbourhood_group', ylabel='price'>"
      ]
     },
     "execution_count": 50,
     "metadata": {},
     "output_type": "execute_result"
    },
    {
     "data": {
      "image/png": "[encoded data removed]",
      "text/plain": [
       "<Figure size 576x432 with 1 Axes>"
      ]
     },
     "metadata": {
      "needs_background": "light"
     },
     "output_type": "display_data"
    }
   ],
   "source": [
    "# Визуализируем распределение различных типов номеров в разном ценовом диапазоне по районам\n",
    "plt.figure(figsize =(8,6))\n",
    "sns.barplot(data = df, x = 'neighbourhood_group',y = 'price', hue = 'room_type')"
   ]
  },
  {
   "cell_type": "markdown",
   "id": "d47a4c3f",
   "metadata": {},
   "source": [
    "Вне зависимости от района  размещения Entire home/apt является самым популярным в каждом районе. В районах с более высокими ценами на аренду жилья  Manhattan и Brooklyn наблюдаем преобладание типа аренды Private room над  Shared room, тогда как в остальных районах кол-во объявлений по этим типам размещения сопоставимо."
   ]
  },
  {
   "cell_type": "code",
   "execution_count": 51,
   "id": "1d1b343b",
   "metadata": {},
   "outputs": [
    {
     "name": "stdout",
     "output_type": "stream",
     "text": [
      "price_range  neighbourhood_group\n",
      "Budgetary    Bronx                   492\n",
      "             Brooklyn               3987\n",
      "             Manhattan              1572\n",
      "             Queens                 2085\n",
      "             Staten Island           153\n",
      "Average      Bronx                   257\n",
      "             Brooklyn               3147\n",
      "             Manhattan              2784\n",
      "             Queens                 1124\n",
      "             Staten Island           102\n",
      "Expensive    Bronx                   113\n",
      "             Brooklyn               3104\n",
      "             Manhattan              3909\n",
      "             Queens                  697\n",
      "             Staten Island            45\n",
      "Luxary       Bronx                    51\n",
      "             Brooklyn               2015\n",
      "             Manhattan              5294\n",
      "             Queens                  392\n",
      "             Staten Island            31\n",
      "Name: price_range, dtype: int64\n"
     ]
    }
   ],
   "source": [
    "#Сгруппируем цену по 4 категориям в соответствии с ее значением процентиля в 25%, 50%, 75% и \n",
    "#найдем количество объявлений в каждой категории, разбив по районам\n",
    "label_name = ['Budgetary','Average','Expensive','Luxary']\n",
    "range = [0,70, 112, 189 ,np.inf]\n",
    "df['price_range'] = pd.cut(df[\"price\"],bins = range, labels = label_name)\n",
    "price_group = df.groupby(['price_range','neighbourhood_group'])['price_range'].count()\n",
    "\n",
    "print(price_group)"
   ]
  },
  {
   "cell_type": "code",
   "execution_count": 53,
   "id": "5b5feb60",
   "metadata": {},
   "outputs": [
    {
     "data": {
      "text/plain": [
       "<AxesSubplot:xlabel='neighbourhood_group', ylabel='count'>"
      ]
     },
     "execution_count": 53,
     "metadata": {},
     "output_type": "execute_result"
    },
    {
     "data": {
      "image/png": "[encoded data removed]",
      "text/plain": [
       "<Figure size 720x432 with 1 Axes>"
      ]
     },
     "metadata": {
      "needs_background": "light"
     },
     "output_type": "display_data"
    }
   ],
   "source": [
    "# Покажем распределение объявлений по группам Budgetary, Average, Expensive, Luxary на графике\n",
    "plt.figure(figsize =(10,6))\n",
    "sns.countplot(data = df, x='neighbourhood_group', hue = 'price_range')"
   ]
  },
  {
   "cell_type": "markdown",
   "id": "37b8427e",
   "metadata": {},
   "source": [
    "По данному графику видно, что Манхэттен является самым дорогим районом, в данном районе объявлений на размещение в категории \"Luxury\" больше, чем в остальных районах. Показательно, что в отличие от других районов на Манхэттен объявлений категории \"Luxury\" больше, чем \"Budgetary\". \n",
    "\n",
    "В остальных районах Нью-Йорка сопоставимое распределение объявлений по ценовым категориям, больше всего бюджетных предложений и меньше всего дорогих вариантов дороже 189 долларов. \n",
    "\n",
    "Стоит отметь, что в Бруклине предложений в категориях цен \"Average\" и \"Expensive\" примерно одинаково."
   ]
  },
  {
   "cell_type": "markdown",
   "id": "a9dcd6a4",
   "metadata": {},
   "source": [
    "**minimum_nights**"
   ]
  },
  {
   "cell_type": "code",
   "execution_count": 694,
   "id": "e5bbe066",
   "metadata": {},
   "outputs": [
    {
     "data": {
      "text/plain": [
       "count    31362.000000\n",
       "mean         8.338658\n",
       "std         23.836703\n",
       "min          1.000000\n",
       "25%          2.000000\n",
       "50%          3.000000\n",
       "75%          5.000000\n",
       "max       1250.000000\n",
       "Name: minimum_nights, dtype: float64"
      ]
     },
     "execution_count": 694,
     "metadata": {},
     "output_type": "execute_result"
    }
   ],
   "source": [
    "df.minimum_nights.describe()"
   ]
  },
  {
   "cell_type": "markdown",
   "id": "7f944877",
   "metadata": {},
   "source": [
    "Среднее значение показателя minimum_nights (минимальное количество ночей, на которое можно арендовать объект)  составляет 8 дней, а 25-й процентиль, 50-й процентиль и 75-й процентиль составляют 2, 3, 5, следовательно, мы можем сделать вывод, что большинство значений находится в диапазоне от 2 до 5. \n"
   ]
  },
  {
   "cell_type": "code",
   "execution_count": 56,
   "id": "b2f364bf",
   "metadata": {},
   "outputs": [
    {
     "name": "stderr",
     "output_type": "stream",
     "text": [
      "/Users/dashalobik/opt/anaconda3/lib/python3.9/site-packages/seaborn/distributions.py:2619: FutureWarning: `distplot` is a deprecated function and will be removed in a future version. Please adapt your code to use either `displot` (a figure-level function with similar flexibility) or `histplot` (an axes-level function for histograms).\n",
      "  warnings.warn(msg, FutureWarning)\n"
     ]
    },
    {
     "data": {
      "image/png": "[encoded data removed]",
      "text/plain": [
       "<Figure size 648x432 with 1 Axes>"
      ]
     },
     "metadata": {
      "needs_background": "light"
     },
     "output_type": "display_data"
    }
   ],
   "source": [
    "# Визуализируем показатель minimum_nights  с помощью графика displot\n",
    "plt.figure(figsize =(9,6))\n",
    "sns.distplot(df[(df['minimum_nights']< 35) & (df['minimum_nights'] > 0)]['minimum_nights'],bins = 31)\n",
    "plt.show()"
   ]
  },
  {
   "cell_type": "code",
   "execution_count": 57,
   "id": "8ef900b3",
   "metadata": {},
   "outputs": [
    {
     "data": {
      "text/plain": [
       "3939"
      ]
     },
     "execution_count": 57,
     "metadata": {},
     "output_type": "execute_result"
    }
   ],
   "source": [
    "df[(df['minimum_nights'] > 28) & (df['minimum_nights'] < 32)].minimum_nights .count()"
   ]
  },
  {
   "cell_type": "code",
   "execution_count": 58,
   "id": "b6ba5df7",
   "metadata": {},
   "outputs": [
    {
     "data": {
      "text/plain": [
       "16330"
      ]
     },
     "execution_count": 58,
     "metadata": {},
     "output_type": "execute_result"
    }
   ],
   "source": [
    "df[(df['minimum_nights'] >= 2) & (df['minimum_nights'] <= 5)].minimum_nights .count()"
   ]
  },
  {
   "cell_type": "code",
   "execution_count": 59,
   "id": "45cf8a9c",
   "metadata": {},
   "outputs": [
    {
     "data": {
      "text/plain": [
       "52.06938333014476"
      ]
     },
     "execution_count": 59,
     "metadata": {},
     "output_type": "execute_result"
    }
   ],
   "source": [
    "16330/31362*100"
   ]
  },
  {
   "cell_type": "code",
   "execution_count": 60,
   "id": "762ef927",
   "metadata": {},
   "outputs": [
    {
     "data": {
      "text/plain": [
       "12.559785727951024"
      ]
     },
     "execution_count": 60,
     "metadata": {},
     "output_type": "execute_result"
    }
   ],
   "source": [
    "3939/31362*100"
   ]
  },
  {
   "cell_type": "markdown",
   "id": "5ac70902",
   "metadata": {},
   "source": [
    "На графике видно, что действительно наибольшее число объявлений предлагают размещение минимум на 2-5 ночей \n",
    "(52% всех объявлений).\n",
    "Также значительная часть объявлений (3939) предлагает размещение минимум на 1 месяц (от 28 до 32 дней), \n",
    "что составляет 12,56% всех объявлений\n"
   ]
  },
  {
   "cell_type": "markdown",
   "id": "441ec19b",
   "metadata": {},
   "source": [
    "# Корреляционно регрессионый анализ"
   ]
  },
  {
   "cell_type": "code",
   "execution_count": 62,
   "id": "2252715f",
   "metadata": {},
   "outputs": [],
   "source": [
    "listings = df[['latitude', 'longitude','price', 'minimum_nights', 'number_of_reviews', \n",
    "       'calculated_host_listings_count', 'availability_365' ]]"
   ]
  },
  {
   "cell_type": "code",
   "execution_count": 63,
   "id": "af641d43",
   "metadata": {},
   "outputs": [
    {
     "data": {
      "text/plain": [
       "latitude                          float64\n",
       "longitude                         float64\n",
       "price                               int64\n",
       "minimum_nights                      int64\n",
       "number_of_reviews                   int64\n",
       "calculated_host_listings_count      int64\n",
       "availability_365                    int64\n",
       "dtype: object"
      ]
     },
     "execution_count": 63,
     "metadata": {},
     "output_type": "execute_result"
    }
   ],
   "source": [
    "listings.dtypes"
   ]
  },
  {
   "cell_type": "code",
   "execution_count": 64,
   "id": "382a971c",
   "metadata": {},
   "outputs": [],
   "source": [
    "dummy = ['neighbourhood_group','neighbourhood','room_type' ]"
   ]
  },
  {
   "cell_type": "code",
   "execution_count": 65,
   "id": "38e685d2",
   "metadata": {},
   "outputs": [
    {
     "data": {
      "text/plain": [
       "[array(['Brooklyn', 'Manhattan', 'Queens', 'Staten Island', 'Bronx'],\n",
       "       dtype=object),\n",
       " array(['Kensington', 'Midtown', 'Harlem', 'Clinton Hill', 'Murray Hill',\n",
       "        \"Hell's Kitchen\", 'Chinatown', 'Upper West Side', 'South Slope',\n",
       "        'Williamsburg', 'Fort Greene', 'Chelsea', 'Crown Heights',\n",
       "        'East Harlem', 'Park Slope', 'Bedford-Stuyvesant',\n",
       "        'Windsor Terrace', 'Inwood', 'East Village', 'Greenpoint',\n",
       "        'Bushwick', 'Flatbush', 'Lower East Side',\n",
       "        'Prospect-Lefferts Gardens', 'Long Island City', 'Kips Bay',\n",
       "        'SoHo', 'Upper East Side', 'Prospect Heights',\n",
       "        'Washington Heights', 'Woodside', 'Brooklyn Heights',\n",
       "        'Carroll Gardens', 'West Village', 'Gowanus', 'Flatlands',\n",
       "        'Flushing', 'Boerum Hill', 'Sunnyside', 'DUMBO', 'St. George',\n",
       "        'Highbridge', 'Ridgewood', 'Morningside Heights', 'Jamaica',\n",
       "        'Middle Village', 'NoHo', 'Ditmars Steinway', 'Cobble Hill',\n",
       "        'Flatiron District', 'Roosevelt Island', 'Greenwich Village',\n",
       "        'East Flatbush', 'Tompkinsville', 'Astoria', 'Clason Point',\n",
       "        'Eastchester', 'Little Italy', 'Kingsbridge', 'Two Bridges',\n",
       "        'Queens Village', 'Rockaway Beach', 'Forest Hills', 'Nolita',\n",
       "        'Woodlawn', 'University Heights', 'Gramercy', 'Allerton',\n",
       "        'East New York', 'Theater District', 'Concourse Village',\n",
       "        'Sheepshead Bay', 'Emerson Hill', 'Fort Hamilton', 'Bensonhurst',\n",
       "        'Tribeca', 'Shore Acres', 'Concourse', 'Elmhurst', 'Sunset Park',\n",
       "        'Brighton Beach', 'Jackson Heights', 'Cypress Hills', 'Arrochar',\n",
       "        'Financial District', 'Wakefield', 'Clifton', 'Bay Ridge',\n",
       "        'Graniteville', 'Spuyten Duyvil', 'Stapleton', 'Ozone Park',\n",
       "        'Columbia St', 'Briarwood', 'Mott Haven', 'Longwood', 'Canarsie',\n",
       "        'Civic Center', 'East Elmhurst', 'New Springville',\n",
       "        'Morris Heights', 'Rego Park', 'Arverne', 'Gravesend',\n",
       "        'Cambria Heights', 'Tottenville', 'Mariners Harbor', 'Concord',\n",
       "        'Borough Park', 'Bayside', 'Downtown Brooklyn', 'Port Morris',\n",
       "        'Fieldston', 'Kew Gardens', 'Midwood', 'College Point',\n",
       "        'Mount Eden', 'Glendale', 'Red Hook', 'Richmond Hill', 'Bellerose',\n",
       "        'St. Albans', 'Maspeth', 'Battery Park City', 'Williamsbridge',\n",
       "        'Soundview', 'Woodhaven', 'Co-op City', 'City Island',\n",
       "        'North Riverdale', 'Dyker Heights', 'Sea Gate', 'Riverdale',\n",
       "        'Kew Gardens Hills', 'Bay Terrace', 'Norwood', 'Claremont Village',\n",
       "        'Whitestone', 'Fordham', 'Bayswater', 'Navy Yard', 'Brownsville',\n",
       "        'Vinegar Hill', 'Eltingville', 'Fresh Meadows', 'Mount Hope',\n",
       "        'Lighthouse Hill', 'Springfield Gardens', 'Howard Beach',\n",
       "        'Belle Harbor', 'Jamaica Estates', 'Van Nest', 'West Brighton',\n",
       "        'Far Rockaway', 'South Ozone Park', 'Corona', 'Great Kills',\n",
       "        'Manhattan Beach', 'Castleton Corners', 'Stuyvesant Town',\n",
       "        'East Morrisania', 'Hunts Point', 'Neponsit', 'Pelham Bay',\n",
       "        'Randall Manor', 'Throgs Neck', 'West Farms', 'Silver Lake',\n",
       "        'Laurelton', 'Holliswood', 'Pelham Gardens', 'Parkchester',\n",
       "        'Rosedale', 'Edgemere', 'New Brighton', 'Baychester', 'Bronxdale',\n",
       "        'Marble Hill', 'Melrose', 'Bergen Beach', 'Richmondtown',\n",
       "        'Tremont', 'Howland Hook', 'Schuylerville', 'Coney Island',\n",
       "        'South Beach', 'Bath Beach', 'Midland Beach', 'Oakwood',\n",
       "        'Castle Hill', 'Hollis', 'Morris Park', 'Douglaston', 'Huguenot',\n",
       "        'Edenwald', 'Dongan Hills', 'Grant City', 'Port Richmond',\n",
       "        'Westerleigh', 'Morrisania', 'Westchester Square', 'Little Neck',\n",
       "        'Fort Wadsworth', 'Rosebank', 'Unionport', 'Mill Basin', 'Belmont',\n",
       "        'Arden Heights', 'Olinville', 'Grymes Hill', 'Rossville',\n",
       "        'Breezy Point', \"Prince's Bay\", 'Willowbrook', 'New Dorp Beach',\n",
       "        \"Bull's Head\", 'Todt Hill', 'Jamaica Hills'], dtype=object),\n",
       " array(['Private room', 'Entire home/apt', 'Shared room'], dtype=object)]"
      ]
     },
     "execution_count": 65,
     "metadata": {},
     "output_type": "execute_result"
    }
   ],
   "source": [
    "dummy_list = []\n",
    "for i in dummy:\n",
    "  new_list = df[i].unique()\n",
    "  dummy_list.append(new_list)\n",
    "\n",
    "dummy_list\n"
   ]
  },
  {
   "cell_type": "code",
   "execution_count": 66,
   "id": "9dfef0ef",
   "metadata": {},
   "outputs": [],
   "source": [
    "count = 0\n",
    "for i in dummy:\n",
    "    df[i+'_num'] = np.where(df[i] == dummy_list[count][0], 0, 1)\n",
    "    count += 1"
   ]
  },
  {
   "cell_type": "code",
   "execution_count": 67,
   "id": "0b6a6a65",
   "metadata": {},
   "outputs": [],
   "source": [
    "research_list = ['neighbourhood_group_num',\n",
    "       'neighbourhood_num', 'latitude', 'longitude', 'room_type_num', 'price',\n",
    "       'minimum_nights', 'number_of_reviews',\n",
    "       'calculated_host_listings_count', 'availability_365']"
   ]
  },
  {
   "cell_type": "code",
   "execution_count": 68,
   "id": "ecc4522a",
   "metadata": {},
   "outputs": [
    {
     "data": {
      "text/html": [
       "<div>\n",
       "<style scoped>\n",
       "    .dataframe tbody tr th:only-of-type {\n",
       "        vertical-align: middle;\n",
       "    }\n",
       "\n",
       "    .dataframe tbody tr th {\n",
       "        vertical-align: top;\n",
       "    }\n",
       "\n",
       "    .dataframe thead th {\n",
       "        text-align: right;\n",
       "    }\n",
       "</style>\n",
       "<table border=\"1\" class=\"dataframe\">\n",
       "  <thead>\n",
       "    <tr style=\"text-align: right;\">\n",
       "      <th></th>\n",
       "      <th>neighbourhood_group_num</th>\n",
       "      <th>neighbourhood_num</th>\n",
       "      <th>latitude</th>\n",
       "      <th>longitude</th>\n",
       "      <th>room_type_num</th>\n",
       "      <th>price</th>\n",
       "      <th>minimum_nights</th>\n",
       "      <th>number_of_reviews</th>\n",
       "      <th>calculated_host_listings_count</th>\n",
       "      <th>availability_365</th>\n",
       "    </tr>\n",
       "  </thead>\n",
       "  <tbody>\n",
       "    <tr>\n",
       "      <th>neighbourhood_group_num</th>\n",
       "      <td>1.000000</td>\n",
       "      <td>0.071302</td>\n",
       "      <td>0.654375</td>\n",
       "      <td>0.015346</td>\n",
       "      <td>0.055329</td>\n",
       "      <td>0.091941</td>\n",
       "      <td>0.046212</td>\n",
       "      <td>-0.044099</td>\n",
       "      <td>0.146273</td>\n",
       "      <td>0.072826</td>\n",
       "    </tr>\n",
       "    <tr>\n",
       "      <th>neighbourhood_num</th>\n",
       "      <td>0.071302</td>\n",
       "      <td>1.000000</td>\n",
       "      <td>0.087702</td>\n",
       "      <td>0.029916</td>\n",
       "      <td>0.017557</td>\n",
       "      <td>0.014171</td>\n",
       "      <td>-0.005532</td>\n",
       "      <td>0.007624</td>\n",
       "      <td>0.011050</td>\n",
       "      <td>0.014397</td>\n",
       "    </tr>\n",
       "    <tr>\n",
       "      <th>latitude</th>\n",
       "      <td>0.654375</td>\n",
       "      <td>0.087702</td>\n",
       "      <td>1.000000</td>\n",
       "      <td>0.078610</td>\n",
       "      <td>-0.018535</td>\n",
       "      <td>0.033803</td>\n",
       "      <td>0.035607</td>\n",
       "      <td>-0.013481</td>\n",
       "      <td>0.025341</td>\n",
       "      <td>-0.003714</td>\n",
       "    </tr>\n",
       "    <tr>\n",
       "      <th>longitude</th>\n",
       "      <td>0.015346</td>\n",
       "      <td>0.029916</td>\n",
       "      <td>0.078610</td>\n",
       "      <td>1.000000</td>\n",
       "      <td>-0.183418</td>\n",
       "      <td>-0.158940</td>\n",
       "      <td>-0.081527</td>\n",
       "      <td>0.033989</td>\n",
       "      <td>-0.146085</td>\n",
       "      <td>0.027964</td>\n",
       "    </tr>\n",
       "    <tr>\n",
       "      <th>room_type_num</th>\n",
       "      <td>0.055329</td>\n",
       "      <td>0.017557</td>\n",
       "      <td>-0.018535</td>\n",
       "      <td>-0.183418</td>\n",
       "      <td>1.000000</td>\n",
       "      <td>0.239847</td>\n",
       "      <td>0.086602</td>\n",
       "      <td>-0.030725</td>\n",
       "      <td>0.134514</td>\n",
       "      <td>-0.013852</td>\n",
       "    </tr>\n",
       "    <tr>\n",
       "      <th>price</th>\n",
       "      <td>0.091941</td>\n",
       "      <td>0.014171</td>\n",
       "      <td>0.033803</td>\n",
       "      <td>-0.158940</td>\n",
       "      <td>0.239847</td>\n",
       "      <td>1.000000</td>\n",
       "      <td>0.039449</td>\n",
       "      <td>-0.072919</td>\n",
       "      <td>0.060828</td>\n",
       "      <td>0.074509</td>\n",
       "    </tr>\n",
       "    <tr>\n",
       "      <th>minimum_nights</th>\n",
       "      <td>0.046212</td>\n",
       "      <td>-0.005532</td>\n",
       "      <td>0.035607</td>\n",
       "      <td>-0.081527</td>\n",
       "      <td>0.086602</td>\n",
       "      <td>0.039449</td>\n",
       "      <td>1.000000</td>\n",
       "      <td>-0.116086</td>\n",
       "      <td>0.124207</td>\n",
       "      <td>0.125418</td>\n",
       "    </tr>\n",
       "    <tr>\n",
       "      <th>number_of_reviews</th>\n",
       "      <td>-0.044099</td>\n",
       "      <td>0.007624</td>\n",
       "      <td>-0.013481</td>\n",
       "      <td>0.033989</td>\n",
       "      <td>-0.030725</td>\n",
       "      <td>-0.072919</td>\n",
       "      <td>-0.116086</td>\n",
       "      <td>1.000000</td>\n",
       "      <td>-0.115415</td>\n",
       "      <td>0.009881</td>\n",
       "    </tr>\n",
       "    <tr>\n",
       "      <th>calculated_host_listings_count</th>\n",
       "      <td>0.146273</td>\n",
       "      <td>0.011050</td>\n",
       "      <td>0.025341</td>\n",
       "      <td>-0.146085</td>\n",
       "      <td>0.134514</td>\n",
       "      <td>0.060828</td>\n",
       "      <td>0.124207</td>\n",
       "      <td>-0.115415</td>\n",
       "      <td>1.000000</td>\n",
       "      <td>0.187949</td>\n",
       "    </tr>\n",
       "    <tr>\n",
       "      <th>availability_365</th>\n",
       "      <td>0.072826</td>\n",
       "      <td>0.014397</td>\n",
       "      <td>-0.003714</td>\n",
       "      <td>0.027964</td>\n",
       "      <td>-0.013852</td>\n",
       "      <td>0.074509</td>\n",
       "      <td>0.125418</td>\n",
       "      <td>0.009881</td>\n",
       "      <td>0.187949</td>\n",
       "      <td>1.000000</td>\n",
       "    </tr>\n",
       "  </tbody>\n",
       "</table>\n",
       "</div>"
      ],
      "text/plain": [
       "                                neighbourhood_group_num  neighbourhood_num  \\\n",
       "neighbourhood_group_num                        1.000000           0.071302   \n",
       "neighbourhood_num                              0.071302           1.000000   \n",
       "latitude                                       0.654375           0.087702   \n",
       "longitude                                      0.015346           0.029916   \n",
       "room_type_num                                  0.055329           0.017557   \n",
       "price                                          0.091941           0.014171   \n",
       "minimum_nights                                 0.046212          -0.005532   \n",
       "number_of_reviews                             -0.044099           0.007624   \n",
       "calculated_host_listings_count                 0.146273           0.011050   \n",
       "availability_365                               0.072826           0.014397   \n",
       "\n",
       "                                latitude  longitude  room_type_num     price  \\\n",
       "neighbourhood_group_num         0.654375   0.015346       0.055329  0.091941   \n",
       "neighbourhood_num               0.087702   0.029916       0.017557  0.014171   \n",
       "latitude                        1.000000   0.078610      -0.018535  0.033803   \n",
       "longitude                       0.078610   1.000000      -0.183418 -0.158940   \n",
       "room_type_num                  -0.018535  -0.183418       1.000000  0.239847   \n",
       "price                           0.033803  -0.158940       0.239847  1.000000   \n",
       "minimum_nights                  0.035607  -0.081527       0.086602  0.039449   \n",
       "number_of_reviews              -0.013481   0.033989      -0.030725 -0.072919   \n",
       "calculated_host_listings_count  0.025341  -0.146085       0.134514  0.060828   \n",
       "availability_365               -0.003714   0.027964      -0.013852  0.074509   \n",
       "\n",
       "                                minimum_nights  number_of_reviews  \\\n",
       "neighbourhood_group_num               0.046212          -0.044099   \n",
       "neighbourhood_num                    -0.005532           0.007624   \n",
       "latitude                              0.035607          -0.013481   \n",
       "longitude                            -0.081527           0.033989   \n",
       "room_type_num                         0.086602          -0.030725   \n",
       "price                                 0.039449          -0.072919   \n",
       "minimum_nights                        1.000000          -0.116086   \n",
       "number_of_reviews                    -0.116086           1.000000   \n",
       "calculated_host_listings_count        0.124207          -0.115415   \n",
       "availability_365                      0.125418           0.009881   \n",
       "\n",
       "                                calculated_host_listings_count  \\\n",
       "neighbourhood_group_num                               0.146273   \n",
       "neighbourhood_num                                     0.011050   \n",
       "latitude                                              0.025341   \n",
       "longitude                                            -0.146085   \n",
       "room_type_num                                         0.134514   \n",
       "price                                                 0.060828   \n",
       "minimum_nights                                        0.124207   \n",
       "number_of_reviews                                    -0.115415   \n",
       "calculated_host_listings_count                        1.000000   \n",
       "availability_365                                      0.187949   \n",
       "\n",
       "                                availability_365  \n",
       "neighbourhood_group_num                 0.072826  \n",
       "neighbourhood_num                       0.014397  \n",
       "latitude                               -0.003714  \n",
       "longitude                               0.027964  \n",
       "room_type_num                          -0.013852  \n",
       "price                                   0.074509  \n",
       "minimum_nights                          0.125418  \n",
       "number_of_reviews                       0.009881  \n",
       "calculated_host_listings_count          0.187949  \n",
       "availability_365                        1.000000  "
      ]
     },
     "execution_count": 68,
     "metadata": {},
     "output_type": "execute_result"
    }
   ],
   "source": [
    "corr_m = df[research_list].corr()\n",
    "corr_m"
   ]
  },
  {
   "cell_type": "code",
   "execution_count": 69,
   "id": "cbe6f0b7",
   "metadata": {},
   "outputs": [
    {
     "data": {
      "text/plain": [
       "<AxesSubplot:>"
      ]
     },
     "execution_count": 69,
     "metadata": {},
     "output_type": "execute_result"
    },
    {
     "data": {
      "image/png": "[encoded data removed]",
      "text/plain": [
       "<Figure size 936x648 with 2 Axes>"
      ]
     },
     "metadata": {
      "needs_background": "light"
     },
     "output_type": "display_data"
    }
   ],
   "source": [
    "plt.figure(figsize = (13,9))\n",
    "sns.heatmap(corr_m, annot = True, fmt = '.3f', linewidth = 1)"
   ]
  },
  {
   "cell_type": "markdown",
   "id": "8c982fb2",
   "metadata": {},
   "source": [
    "В большей степени с ценой связаны факторы room_type и longitude, однако коррелиция не значительная."
   ]
  },
  {
   "cell_type": "code",
   "execution_count": 70,
   "id": "31dddd71",
   "metadata": {},
   "outputs": [],
   "source": [
    "\n",
    "X = df[['neighbourhood_group_num',\n",
    "       'neighbourhood_num', 'latitude', 'longitude', 'room_type_num',\n",
    "       'minimum_nights', 'number_of_reviews',\n",
    "       'calculated_host_listings_count', 'availability_365']]\n",
    "Y=df.price"
   ]
  },
  {
   "cell_type": "code",
   "execution_count": 71,
   "id": "bb36e2f5",
   "metadata": {},
   "outputs": [
    {
     "name": "stdout",
     "output_type": "stream",
     "text": [
      "                            OLS Regression Results                            \n",
      "==============================================================================\n",
      "Dep. Variable:                  price   R-squared:                       0.088\n",
      "Model:                            OLS   Adj. R-squared:                  0.087\n",
      "Method:                 Least Squares   F-statistic:                     334.4\n",
      "Date:                Thu, 01 Jun 2023   Prob (F-statistic):               0.00\n",
      "Time:                        01:05:31   Log-Likelihood:            -2.1678e+05\n",
      "No. Observations:               31362   AIC:                         4.336e+05\n",
      "Df Residuals:                   31352   BIC:                         4.337e+05\n",
      "Df Model:                           9                                         \n",
      "Covariance Type:            nonrobust                                         \n",
      "==================================================================================================\n",
      "                                     coef    std err          t      P>|t|      [0.025      0.975]\n",
      "--------------------------------------------------------------------------------------------------\n",
      "const                          -4.458e+04   2508.358    -17.772      0.000   -4.95e+04   -3.97e+04\n",
      "neighbourhood_group_num           41.1527      3.797     10.838      0.000      33.710      48.595\n",
      "neighbourhood_num                 37.4523     24.221      1.546      0.122     -10.022      84.927\n",
      "latitude                         -20.8074     32.496     -0.640      0.522     -84.501      42.887\n",
      "longitude                       -614.5848     27.575    -22.288      0.000    -668.632    -560.538\n",
      "room_type_num                    110.0091      2.841     38.716      0.000     104.440     115.578\n",
      "minimum_nights                    -0.0820      0.059     -1.390      0.165      -0.198       0.034\n",
      "number_of_reviews                 -0.3086      0.027    -11.453      0.000      -0.361      -0.256\n",
      "calculated_host_listings_count    -0.1193      0.036     -3.346      0.001      -0.189      -0.049\n",
      "availability_365                   0.1618      0.011     14.431      0.000       0.140       0.184\n",
      "==============================================================================\n",
      "Omnibus:                    66724.701   Durbin-Watson:                   1.813\n",
      "Prob(Omnibus):                  0.000   Jarque-Bera (JB):        381160124.644\n",
      "Skew:                          18.711   Prob(JB):                         0.00\n",
      "Kurtosis:                     541.781   Cond. No.                     4.20e+05\n",
      "==============================================================================\n",
      "\n",
      "Notes:\n",
      "[1] Standard Errors assume that the covariance matrix of the errors is correctly specified.\n",
      "[2] The condition number is large, 4.2e+05. This might indicate that there are\n",
      "strong multicollinearity or other numerical problems.\n"
     ]
    }
   ],
   "source": [
    "X = sm.add_constant(X)  # добавить константу, чтобы был свободный член\n",
    "model = sm.OLS(Y, X)  # говорим модели, что у нас ЗП, а что НП\n",
    "results = model.fit()  # строим регрессионную прямую\n",
    "print(results.summary())  # смотрим результат"
   ]
  },
  {
   "cell_type": "markdown",
   "id": "7a8f34a6",
   "metadata": {},
   "source": [
    "**Выводы**\n",
    "\n",
    "Выбранная модель объясняет всего лишь 9 % дисперсии (окр. до целого). \n",
    "91% изменчивости цены сусществующая модель объяснить не может.\n",
    "\n",
    "Для того чтобы, чтобы оценить влияние факторов на изменчивость цены, нам необходимы дополнительные факторы в наборе данных.На цену влияют следующие свойства объектов размещения:\n",
    "- Площадь объекта (кол-во спален)\n",
    "- Наличие балкона, террасы\n",
    "- Вид из окна\n",
    "- Наличие техники (кофе-машина, стиральная машина, холодильник, телевизор)\n",
    "- Наличие инфраструктуры на территории (бассейн, спа, настольный теннис, внутренний двор, детская площадка)\n",
    "- Наличие кухни \n",
    "- Возможность размещения с дрмашними животными\n",
    "\n",
    "\n"
   ]
  },
  {
   "cell_type": "markdown",
   "id": "d2e21de0",
   "metadata": {},
   "source": [
    "# ПОИСК ОБЪЕКТА РАЗМЕЩЕНИЯ НА AIRBNB"
   ]
  },
  {
   "cell_type": "markdown",
   "id": "580bd9fa",
   "metadata": {},
   "source": [
    "**На основе имеющихся данных подберем идеальный вариант размещения при посещении Нью-Йорка**\n",
    "Мои критерии для поиска жилья:\n",
    "1. Хочу проживать недалеко от Центрального Парка (растоянние до парка не больше 2 км)\n",
    "2. Близость к станции метро\n",
    "3. Стоимость жилья не дороже 145 долл. за ночь (средняя стоимость проживания по городу Нью-Йорк)\n",
    "4. Остановится я планирую на 4 ночи\n",
    "5. Кол-во отзывов должно быть больше 10\n",
    "6. Проживать хочу в отдельной квартире/ доме"
   ]
  },
  {
   "cell_type": "code",
   "execution_count": 72,
   "id": "cf492d89",
   "metadata": {},
   "outputs": [
    {
     "data": {
      "text/html": [
       "<div>\n",
       "<style scoped>\n",
       "    .dataframe tbody tr th:only-of-type {\n",
       "        vertical-align: middle;\n",
       "    }\n",
       "\n",
       "    .dataframe tbody tr th {\n",
       "        vertical-align: top;\n",
       "    }\n",
       "\n",
       "    .dataframe thead th {\n",
       "        text-align: right;\n",
       "    }\n",
       "</style>\n",
       "<table border=\"1\" class=\"dataframe\">\n",
       "  <thead>\n",
       "    <tr style=\"text-align: right;\">\n",
       "      <th></th>\n",
       "      <th>name</th>\n",
       "      <th>longitude</th>\n",
       "      <th>latitude</th>\n",
       "    </tr>\n",
       "  </thead>\n",
       "  <tbody>\n",
       "    <tr>\n",
       "      <th>0</th>\n",
       "      <td>Central Park</td>\n",
       "      <td>-73.968285</td>\n",
       "      <td>40.785091</td>\n",
       "    </tr>\n",
       "  </tbody>\n",
       "</table>\n",
       "</div>"
      ],
      "text/plain": [
       "           name  longitude   latitude\n",
       "0  Central Park -73.968285  40.785091"
      ]
     },
     "execution_count": 72,
     "metadata": {},
     "output_type": "execute_result"
    }
   ],
   "source": [
    "#Создаем Датафрейм с координатами Центарального Парка в Нью-Йорке\n",
    "central_park = pd.DataFrame()\n",
    "central_park['name'] = [\"Central Park\"]\n",
    "central_park['longitude'] = -73.968285\n",
    "central_park['latitude'] = 40.785091\n",
    "central_park"
   ]
  },
  {
   "cell_type": "code",
   "execution_count": 73,
   "id": "d93cc00c",
   "metadata": {},
   "outputs": [],
   "source": [
    "central_park = gpd.GeoDataFrame(central_park, geometry=gpd.points_from_xy(central_park.longitude, central_park.latitude))"
   ]
  },
  {
   "cell_type": "code",
   "execution_count": 74,
   "id": "19a2b6f4",
   "metadata": {},
   "outputs": [],
   "source": [
    "# C сайта https://data.cityofnewyork.us/City-Government/Neighborhood-Tabulation-Areas/cpf4-rkhq\n",
    "# скачиваем датасет с геоданными районов Нью-Йорка \n",
    "df_neighbourhood = pd.read_csv(\"nynta.csv\")"
   ]
  },
  {
   "cell_type": "code",
   "execution_count": 75,
   "id": "7c9de2df",
   "metadata": {},
   "outputs": [
    {
     "data": {
      "text/html": [
       "<div>\n",
       "<style scoped>\n",
       "    .dataframe tbody tr th:only-of-type {\n",
       "        vertical-align: middle;\n",
       "    }\n",
       "\n",
       "    .dataframe tbody tr th {\n",
       "        vertical-align: top;\n",
       "    }\n",
       "\n",
       "    .dataframe thead th {\n",
       "        text-align: right;\n",
       "    }\n",
       "</style>\n",
       "<table border=\"1\" class=\"dataframe\">\n",
       "  <thead>\n",
       "    <tr style=\"text-align: right;\">\n",
       "      <th></th>\n",
       "      <th>the_geom</th>\n",
       "      <th>BoroCode</th>\n",
       "      <th>BoroName</th>\n",
       "      <th>CountyFIPS</th>\n",
       "      <th>NTACode</th>\n",
       "      <th>NTAName</th>\n",
       "      <th>Shape_Leng</th>\n",
       "      <th>Shape_Area</th>\n",
       "    </tr>\n",
       "  </thead>\n",
       "  <tbody>\n",
       "    <tr>\n",
       "      <th>0</th>\n",
       "      <td>MULTIPOLYGON (((-73.75205066516907 40.70522802...</td>\n",
       "      <td>4</td>\n",
       "      <td>Queens</td>\n",
       "      <td>81</td>\n",
       "      <td>QN08</td>\n",
       "      <td>St. Albans</td>\n",
       "      <td>45401.316803</td>\n",
       "      <td>7.741275e+07</td>\n",
       "    </tr>\n",
       "    <tr>\n",
       "      <th>1</th>\n",
       "      <td>MULTIPOLYGON (((-73.8870514253612 40.884349575...</td>\n",
       "      <td>2</td>\n",
       "      <td>Bronx</td>\n",
       "      <td>5</td>\n",
       "      <td>BX28</td>\n",
       "      <td>Van Cortlandt Village</td>\n",
       "      <td>21945.719299</td>\n",
       "      <td>2.566612e+07</td>\n",
       "    </tr>\n",
       "    <tr>\n",
       "      <th>2</th>\n",
       "      <td>MULTIPOLYGON (((-73.80576840191371 40.68293239...</td>\n",
       "      <td>4</td>\n",
       "      <td>Queens</td>\n",
       "      <td>81</td>\n",
       "      <td>QN55</td>\n",
       "      <td>South Ozone Park</td>\n",
       "      <td>36708.169305</td>\n",
       "      <td>8.246139e+07</td>\n",
       "    </tr>\n",
       "    <tr>\n",
       "      <th>3</th>\n",
       "      <td>MULTIPOLYGON (((-73.98017161103701 40.66115465...</td>\n",
       "      <td>3</td>\n",
       "      <td>Brooklyn</td>\n",
       "      <td>47</td>\n",
       "      <td>BK40</td>\n",
       "      <td>Windsor Terrace</td>\n",
       "      <td>19033.672066</td>\n",
       "      <td>1.404167e+07</td>\n",
       "    </tr>\n",
       "    <tr>\n",
       "      <th>4</th>\n",
       "      <td>MULTIPOLYGON (((-73.88833929256353 40.64671022...</td>\n",
       "      <td>3</td>\n",
       "      <td>Brooklyn</td>\n",
       "      <td>47</td>\n",
       "      <td>BK50</td>\n",
       "      <td>Canarsie</td>\n",
       "      <td>43703.609666</td>\n",
       "      <td>8.208968e+07</td>\n",
       "    </tr>\n",
       "    <tr>\n",
       "      <th>...</th>\n",
       "      <td>...</td>\n",
       "      <td>...</td>\n",
       "      <td>...</td>\n",
       "      <td>...</td>\n",
       "      <td>...</td>\n",
       "      <td>...</td>\n",
       "      <td>...</td>\n",
       "      <td>...</td>\n",
       "    </tr>\n",
       "    <tr>\n",
       "      <th>190</th>\n",
       "      <td>MULTIPOLYGON (((-73.90129277627032 40.82047544...</td>\n",
       "      <td>2</td>\n",
       "      <td>Bronx</td>\n",
       "      <td>5</td>\n",
       "      <td>BX34</td>\n",
       "      <td>Melrose South-Mott Haven North</td>\n",
       "      <td>19589.196431</td>\n",
       "      <td>1.727176e+07</td>\n",
       "    </tr>\n",
       "    <tr>\n",
       "      <th>191</th>\n",
       "      <td>MULTIPOLYGON (((-73.89680883223774 40.79580844...</td>\n",
       "      <td>2</td>\n",
       "      <td>Bronx</td>\n",
       "      <td>5</td>\n",
       "      <td>BX39</td>\n",
       "      <td>Mott Haven-Port Morris</td>\n",
       "      <td>35604.790810</td>\n",
       "      <td>4.189861e+07</td>\n",
       "    </tr>\n",
       "    <tr>\n",
       "      <th>192</th>\n",
       "      <td>MULTIPOLYGON (((-73.9119181232027 40.843257886...</td>\n",
       "      <td>2</td>\n",
       "      <td>Bronx</td>\n",
       "      <td>5</td>\n",
       "      <td>BX63</td>\n",
       "      <td>West Concourse</td>\n",
       "      <td>28571.879354</td>\n",
       "      <td>1.936642e+07</td>\n",
       "    </tr>\n",
       "    <tr>\n",
       "      <th>193</th>\n",
       "      <td>MULTIPOLYGON (((-74.072581339395 40.6379418745...</td>\n",
       "      <td>5</td>\n",
       "      <td>Staten Island</td>\n",
       "      <td>85</td>\n",
       "      <td>SI22</td>\n",
       "      <td>West New Brighton-New Brighton-St. George</td>\n",
       "      <td>66052.593065</td>\n",
       "      <td>5.602857e+07</td>\n",
       "    </tr>\n",
       "    <tr>\n",
       "      <th>194</th>\n",
       "      <td>MULTIPOLYGON (((-74.08373397210431 40.63573714...</td>\n",
       "      <td>5</td>\n",
       "      <td>Staten Island</td>\n",
       "      <td>85</td>\n",
       "      <td>SI35</td>\n",
       "      <td>New Brighton-Silver Lake</td>\n",
       "      <td>30321.267417</td>\n",
       "      <td>4.713631e+07</td>\n",
       "    </tr>\n",
       "  </tbody>\n",
       "</table>\n",
       "<p>195 rows × 8 columns</p>\n",
       "</div>"
      ],
      "text/plain": [
       "                                              the_geom  BoroCode  \\\n",
       "0    MULTIPOLYGON (((-73.75205066516907 40.70522802...         4   \n",
       "1    MULTIPOLYGON (((-73.8870514253612 40.884349575...         2   \n",
       "2    MULTIPOLYGON (((-73.80576840191371 40.68293239...         4   \n",
       "3    MULTIPOLYGON (((-73.98017161103701 40.66115465...         3   \n",
       "4    MULTIPOLYGON (((-73.88833929256353 40.64671022...         3   \n",
       "..                                                 ...       ...   \n",
       "190  MULTIPOLYGON (((-73.90129277627032 40.82047544...         2   \n",
       "191  MULTIPOLYGON (((-73.89680883223774 40.79580844...         2   \n",
       "192  MULTIPOLYGON (((-73.9119181232027 40.843257886...         2   \n",
       "193  MULTIPOLYGON (((-74.072581339395 40.6379418745...         5   \n",
       "194  MULTIPOLYGON (((-74.08373397210431 40.63573714...         5   \n",
       "\n",
       "          BoroName  CountyFIPS NTACode  \\\n",
       "0           Queens          81    QN08   \n",
       "1            Bronx           5    BX28   \n",
       "2           Queens          81    QN55   \n",
       "3         Brooklyn          47    BK40   \n",
       "4         Brooklyn          47    BK50   \n",
       "..             ...         ...     ...   \n",
       "190          Bronx           5    BX34   \n",
       "191          Bronx           5    BX39   \n",
       "192          Bronx           5    BX63   \n",
       "193  Staten Island          85    SI22   \n",
       "194  Staten Island          85    SI35   \n",
       "\n",
       "                                       NTAName    Shape_Leng    Shape_Area  \n",
       "0                                   St. Albans  45401.316803  7.741275e+07  \n",
       "1                        Van Cortlandt Village  21945.719299  2.566612e+07  \n",
       "2                             South Ozone Park  36708.169305  8.246139e+07  \n",
       "3                              Windsor Terrace  19033.672066  1.404167e+07  \n",
       "4                                     Canarsie  43703.609666  8.208968e+07  \n",
       "..                                         ...           ...           ...  \n",
       "190             Melrose South-Mott Haven North  19589.196431  1.727176e+07  \n",
       "191                     Mott Haven-Port Morris  35604.790810  4.189861e+07  \n",
       "192                             West Concourse  28571.879354  1.936642e+07  \n",
       "193  West New Brighton-New Brighton-St. George  66052.593065  5.602857e+07  \n",
       "194                   New Brighton-Silver Lake  30321.267417  4.713631e+07  \n",
       "\n",
       "[195 rows x 8 columns]"
      ]
     },
     "execution_count": 75,
     "metadata": {},
     "output_type": "execute_result"
    }
   ],
   "source": [
    "df_neighbourhood"
   ]
  },
  {
   "cell_type": "code",
   "execution_count": 76,
   "id": "03f44db3",
   "metadata": {},
   "outputs": [
    {
     "data": {
      "text/html": [
       "<div>\n",
       "<style scoped>\n",
       "    .dataframe tbody tr th:only-of-type {\n",
       "        vertical-align: middle;\n",
       "    }\n",
       "\n",
       "    .dataframe tbody tr th {\n",
       "        vertical-align: top;\n",
       "    }\n",
       "\n",
       "    .dataframe thead th {\n",
       "        text-align: right;\n",
       "    }\n",
       "</style>\n",
       "<table border=\"1\" class=\"dataframe\">\n",
       "  <thead>\n",
       "    <tr style=\"text-align: right;\">\n",
       "      <th></th>\n",
       "      <th>the_geom</th>\n",
       "      <th>BoroCode</th>\n",
       "      <th>neighbourhood_group</th>\n",
       "      <th>CountyFIPS</th>\n",
       "      <th>NTACode</th>\n",
       "      <th>neighbourhood</th>\n",
       "      <th>Shape_Leng</th>\n",
       "      <th>Shape_Area</th>\n",
       "    </tr>\n",
       "  </thead>\n",
       "  <tbody>\n",
       "    <tr>\n",
       "      <th>0</th>\n",
       "      <td>MULTIPOLYGON (((-73.75205066516907 40.70522802...</td>\n",
       "      <td>4</td>\n",
       "      <td>Queens</td>\n",
       "      <td>81</td>\n",
       "      <td>QN08</td>\n",
       "      <td>St. Albans</td>\n",
       "      <td>45401.316803</td>\n",
       "      <td>7.741275e+07</td>\n",
       "    </tr>\n",
       "    <tr>\n",
       "      <th>1</th>\n",
       "      <td>MULTIPOLYGON (((-73.8870514253612 40.884349575...</td>\n",
       "      <td>2</td>\n",
       "      <td>Bronx</td>\n",
       "      <td>5</td>\n",
       "      <td>BX28</td>\n",
       "      <td>Van Cortlandt Village</td>\n",
       "      <td>21945.719299</td>\n",
       "      <td>2.566612e+07</td>\n",
       "    </tr>\n",
       "    <tr>\n",
       "      <th>2</th>\n",
       "      <td>MULTIPOLYGON (((-73.80576840191371 40.68293239...</td>\n",
       "      <td>4</td>\n",
       "      <td>Queens</td>\n",
       "      <td>81</td>\n",
       "      <td>QN55</td>\n",
       "      <td>South Ozone Park</td>\n",
       "      <td>36708.169305</td>\n",
       "      <td>8.246139e+07</td>\n",
       "    </tr>\n",
       "    <tr>\n",
       "      <th>3</th>\n",
       "      <td>MULTIPOLYGON (((-73.98017161103701 40.66115465...</td>\n",
       "      <td>3</td>\n",
       "      <td>Brooklyn</td>\n",
       "      <td>47</td>\n",
       "      <td>BK40</td>\n",
       "      <td>Windsor Terrace</td>\n",
       "      <td>19033.672066</td>\n",
       "      <td>1.404167e+07</td>\n",
       "    </tr>\n",
       "    <tr>\n",
       "      <th>4</th>\n",
       "      <td>MULTIPOLYGON (((-73.88833929256353 40.64671022...</td>\n",
       "      <td>3</td>\n",
       "      <td>Brooklyn</td>\n",
       "      <td>47</td>\n",
       "      <td>BK50</td>\n",
       "      <td>Canarsie</td>\n",
       "      <td>43703.609666</td>\n",
       "      <td>8.208968e+07</td>\n",
       "    </tr>\n",
       "  </tbody>\n",
       "</table>\n",
       "</div>"
      ],
      "text/plain": [
       "                                            the_geom  BoroCode  \\\n",
       "0  MULTIPOLYGON (((-73.75205066516907 40.70522802...         4   \n",
       "1  MULTIPOLYGON (((-73.8870514253612 40.884349575...         2   \n",
       "2  MULTIPOLYGON (((-73.80576840191371 40.68293239...         4   \n",
       "3  MULTIPOLYGON (((-73.98017161103701 40.66115465...         3   \n",
       "4  MULTIPOLYGON (((-73.88833929256353 40.64671022...         3   \n",
       "\n",
       "  neighbourhood_group  CountyFIPS NTACode          neighbourhood  \\\n",
       "0              Queens          81    QN08             St. Albans   \n",
       "1               Bronx           5    BX28  Van Cortlandt Village   \n",
       "2              Queens          81    QN55       South Ozone Park   \n",
       "3            Brooklyn          47    BK40        Windsor Terrace   \n",
       "4            Brooklyn          47    BK50               Canarsie   \n",
       "\n",
       "     Shape_Leng    Shape_Area  \n",
       "0  45401.316803  7.741275e+07  \n",
       "1  21945.719299  2.566612e+07  \n",
       "2  36708.169305  8.246139e+07  \n",
       "3  19033.672066  1.404167e+07  \n",
       "4  43703.609666  8.208968e+07  "
      ]
     },
     "execution_count": 76,
     "metadata": {},
     "output_type": "execute_result"
    }
   ],
   "source": [
    "# Колонку NTAName   переименуем в neighbourhood, а BoroName в neighbourhood_group\n",
    "df_neighbourhood.rename(columns={'NTAName':'neighbourhood', 'BoroName':'neighbourhood_group'}, inplace=True)\n",
    "df_neighbourhood.head(5)"
   ]
  },
  {
   "cell_type": "code",
   "execution_count": 77,
   "id": "efdbcbc1",
   "metadata": {},
   "outputs": [],
   "source": [
    "# Для того, чтобы отобразить данные из файла \"nynta.csv\" на карте преобразуем их. в формат wkt\n",
    "#(текстовый формат описания геометрических фигур)  DataFrame  df_neighbourhood преобразуем в GeoDataFrame\n",
    "df_neighbourhood['geom'] = df_neighbourhood['the_geom'].apply(wkt.loads)\n",
    "df_neighbourhood = gpd.GeoDataFrame(df_neighbourhood, geometry='geom')"
   ]
  },
  {
   "cell_type": "code",
   "execution_count": 78,
   "id": "a5412fca",
   "metadata": {},
   "outputs": [
    {
     "data": {
      "text/plain": [
       "Text(0.5, 1.0, 'Central Park')"
      ]
     },
     "execution_count": 78,
     "metadata": {},
     "output_type": "execute_result"
    },
    {
     "data": {
      "image/png": "[encoded data removed]",
      "text/plain": [
       "<Figure size 720x720 with 1 Axes>"
      ]
     },
     "metadata": {
      "needs_background": "light"
     },
     "output_type": "display_data"
    }
   ],
   "source": [
    "# Покажем на карте Нью-Йорка местоположение Центрального парка\n",
    "fig,ax1 = plt.subplots(1,1, figsize=(10,10))\n",
    "base = df_neighbourhood.plot(color='pink',alpha=0.5,edgecolor='black', ax=ax1)\n",
    "central_park.plot(markersize=300,ax=base)\n",
    "plt.title('Central Park')\n"
   ]
  },
  {
   "cell_type": "code",
   "execution_count": 79,
   "id": "6b9a3738",
   "metadata": {},
   "outputs": [],
   "source": [
    "# На карте видно, что центральный парк находится на Манхеттене\n",
    "mnh_geo = df_neighbourhood[(df_neighbourhood['neighbourhood_group']== 'Manhattan')]\n"
   ]
  },
  {
   "cell_type": "code",
   "execution_count": 80,
   "id": "4095ac1e",
   "metadata": {},
   "outputs": [
    {
     "data": {
      "text/plain": [
       "<AxesSubplot:>"
      ]
     },
     "execution_count": 80,
     "metadata": {},
     "output_type": "execute_result"
    },
    {
     "data": {
      "image/png": "[encoded data removed]",
      "text/plain": [
       "<Figure size 576x576 with 1 Axes>"
      ]
     },
     "metadata": {
      "needs_background": "light"
     },
     "output_type": "display_data"
    }
   ],
   "source": [
    "fig,ax = plt.subplots(1,1, figsize=(8,8))\n",
    "central_park.plot(markersize=300,color='red',ax=ax)\n",
    "mnh_geo.plot(column='neighbourhood_group',alpha=.5, ax=ax, cmap = 'Pastel1',edgecolor='black' )\n"
   ]
  },
  {
   "cell_type": "code",
   "execution_count": 81,
   "id": "985e0fac",
   "metadata": {},
   "outputs": [
    {
     "data": {
      "text/html": [
       "<div>\n",
       "<style scoped>\n",
       "    .dataframe tbody tr th:only-of-type {\n",
       "        vertical-align: middle;\n",
       "    }\n",
       "\n",
       "    .dataframe tbody tr th {\n",
       "        vertical-align: top;\n",
       "    }\n",
       "\n",
       "    .dataframe thead th {\n",
       "        text-align: right;\n",
       "    }\n",
       "</style>\n",
       "<table border=\"1\" class=\"dataframe\">\n",
       "  <thead>\n",
       "    <tr style=\"text-align: right;\">\n",
       "      <th></th>\n",
       "      <th>NAME</th>\n",
       "      <th>the_geom</th>\n",
       "      <th>URL</th>\n",
       "      <th>LINE</th>\n",
       "    </tr>\n",
       "  </thead>\n",
       "  <tbody>\n",
       "    <tr>\n",
       "      <th>0</th>\n",
       "      <td>W 4th St - Washington Sq (Lower)</td>\n",
       "      <td>POINT (-74.00030814706824 40.73225482650675)</td>\n",
       "      <td>http://www.mta.info/nyct/subway/index.html</td>\n",
       "      <td>B-D-F-M</td>\n",
       "    </tr>\n",
       "    <tr>\n",
       "      <th>1</th>\n",
       "      <td>Buhre Ave</td>\n",
       "      <td>POINT (-73.83256899924748 40.846810332614844)</td>\n",
       "      <td>http://www.mta.info/nyct/subway/index.html</td>\n",
       "      <td>6-6 Express</td>\n",
       "    </tr>\n",
       "    <tr>\n",
       "      <th>2</th>\n",
       "      <td>51st St</td>\n",
       "      <td>POINT (-73.97192000013308 40.757107333148234)</td>\n",
       "      <td>http://www.mta.info/nyct/subway/index.html</td>\n",
       "      <td>4-6-6 Express</td>\n",
       "    </tr>\n",
       "    <tr>\n",
       "      <th>3</th>\n",
       "      <td>86th St</td>\n",
       "      <td>POINT (-73.97621799811347 40.78864433404891)</td>\n",
       "      <td>http://www.mta.info/nyct/subway/index.html</td>\n",
       "      <td>1-2</td>\n",
       "    </tr>\n",
       "    <tr>\n",
       "      <th>4</th>\n",
       "      <td>Brooklyn Bridge - City Hall</td>\n",
       "      <td>POINT (-74.00413100111697 40.713065332984044)</td>\n",
       "      <td>http://www.mta.info/nyct/subway/index.html</td>\n",
       "      <td>4-5-6-6 Express</td>\n",
       "    </tr>\n",
       "  </tbody>\n",
       "</table>\n",
       "</div>"
      ],
      "text/plain": [
       "                               NAME  \\\n",
       "0  W 4th St - Washington Sq (Lower)   \n",
       "1                         Buhre Ave   \n",
       "2                           51st St   \n",
       "3                           86th St   \n",
       "4       Brooklyn Bridge - City Hall   \n",
       "\n",
       "                                        the_geom  \\\n",
       "0   POINT (-74.00030814706824 40.73225482650675)   \n",
       "1  POINT (-73.83256899924748 40.846810332614844)   \n",
       "2  POINT (-73.97192000013308 40.757107333148234)   \n",
       "3   POINT (-73.97621799811347 40.78864433404891)   \n",
       "4  POINT (-74.00413100111697 40.713065332984044)   \n",
       "\n",
       "                                          URL             LINE  \n",
       "0  http://www.mta.info/nyct/subway/index.html          B-D-F-M  \n",
       "1  http://www.mta.info/nyct/subway/index.html      6-6 Express  \n",
       "2  http://www.mta.info/nyct/subway/index.html    4-6-6 Express  \n",
       "3  http://www.mta.info/nyct/subway/index.html              1-2  \n",
       "4  http://www.mta.info/nyct/subway/index.html  4-5-6-6 Express  "
      ]
     },
     "execution_count": 81,
     "metadata": {},
     "output_type": "execute_result"
    }
   ],
   "source": [
    "#Загружаем датасет с геоданными станций метро Нью-Йорка\n",
    "subways = pd.read_csv('DOITT_SUBWAY_STATION_01_13SEPT2010.csv')\n",
    "subways.head(5)"
   ]
  },
  {
   "cell_type": "code",
   "execution_count": 82,
   "id": "90d9c245",
   "metadata": {},
   "outputs": [],
   "source": [
    "subways['geom'] = subways['the_geom'].apply(wkt.loads)\n",
    "subways = gpd.GeoDataFrame(subways, geometry='geom')"
   ]
  },
  {
   "cell_type": "code",
   "execution_count": 84,
   "id": "876a0a21",
   "metadata": {},
   "outputs": [
    {
     "data": {
      "text/plain": [
       "Text(0.5, 1.0, 'NYC Subway Stations and Central Park')"
      ]
     },
     "execution_count": 84,
     "metadata": {},
     "output_type": "execute_result"
    },
    {
     "data": {
      "image/png": "[encoded data removed]",
      "text/plain": [
       "<Figure size 576x576 with 1 Axes>"
      ]
     },
     "metadata": {
      "needs_background": "light"
     },
     "output_type": "display_data"
    }
   ],
   "source": [
    "# Расположение Центрального Парка на карте станций метро\n",
    "fig,ax = plt.subplots(1,1, figsize=(8,8))\n",
    "subways.plot(ax=ax)\n",
    "central_park.plot(markersize=100,ax=ax)\n",
    "plt.title('NYC Subway Stations and Central Park', fontsize=12)"
   ]
  },
  {
   "cell_type": "code",
   "execution_count": 85,
   "id": "d66644f2",
   "metadata": {},
   "outputs": [
    {
     "name": "stderr",
     "output_type": "stream",
     "text": [
      "/Users/dashalobik/opt/anaconda3/lib/python3.9/site-packages/pyproj/crs/crs.py:141: FutureWarning: '+init=<authority>:<code>' syntax is deprecated. '<authority>:<code>' is the preferred initialization method. When making the change, be mindful of axis order changes: https://pyproj4.github.io/pyproj/stable/gotchas.html#axis-order-changes-in-proj-6\n",
      "  in_crs_string = _prepare_from_proj_string(in_crs_string)\n"
     ]
    }
   ],
   "source": [
    "# Определим координаты площади, которая находится в радиусе 2-х км от центального парка\n",
    "central_park.crs = {'init' :'epsg:2263'} \n",
    "central_park_buffer = central_park.buffer(.001 * 20)"
   ]
  },
  {
   "cell_type": "code",
   "execution_count": 86,
   "id": "1f2283c9",
   "metadata": {},
   "outputs": [],
   "source": [
    "central_park_buffer = gpd.GeoDataFrame({'geometry': central_park_buffer })"
   ]
  },
  {
   "cell_type": "code",
   "execution_count": 87,
   "id": "179bb0e6",
   "metadata": {},
   "outputs": [],
   "source": [
    "df_geo = gpd.GeoDataFrame(df, geometry = gpd.points_from_xy(df.longitude, df.latitude))\n"
   ]
  },
  {
   "cell_type": "code",
   "execution_count": 88,
   "id": "423717af",
   "metadata": {},
   "outputs": [
    {
     "name": "stderr",
     "output_type": "stream",
     "text": [
      "/Users/dashalobik/opt/anaconda3/lib/python3.9/site-packages/pyproj/crs/crs.py:141: FutureWarning: '+init=<authority>:<code>' syntax is deprecated. '<authority>:<code>' is the preferred initialization method. When making the change, be mindful of axis order changes: https://pyproj4.github.io/pyproj/stable/gotchas.html#axis-order-changes-in-proj-6\n",
      "  in_crs_string = _prepare_from_proj_string(in_crs_string)\n"
     ]
    }
   ],
   "source": [
    "# приводим данные ГеоДатаФреймов central_park_buffer и df_geo к общей системе координат\n",
    "central_park_buffer.crs = {'init' :'epsg:2263'}\n",
    "df_geo.crs = {'init' :'epsg:2263'}"
   ]
  },
  {
   "cell_type": "code",
   "execution_count": 89,
   "id": "5d6d828c",
   "metadata": {},
   "outputs": [],
   "source": [
    "# Данные всех вариантов размещения, которые подойдут по запросу не дальше 2-х км от центрального парка\n",
    "hosts_2km = gpd.sjoin(df_geo, central_park_buffer, how='inner', predicate ='intersects')"
   ]
  },
  {
   "cell_type": "code",
   "execution_count": 90,
   "id": "53735107",
   "metadata": {},
   "outputs": [
    {
     "data": {
      "text/plain": [
       "1612"
      ]
     },
     "execution_count": 90,
     "metadata": {},
     "output_type": "execute_result"
    }
   ],
   "source": [
    "# Количество таких размещений составляет 1612 объектов\n",
    "len(hosts_2km)"
   ]
  },
  {
   "cell_type": "code",
   "execution_count": 91,
   "id": "931b8eab",
   "metadata": {},
   "outputs": [
    {
     "data": {
      "text/plain": [
       "Text(0.5, 1.0, 'Hosts near Central Park')"
      ]
     },
     "execution_count": 91,
     "metadata": {},
     "output_type": "execute_result"
    },
    {
     "data": {
      "image/png": "[encoded data removed]",
      "text/plain": [
       "<Figure size 576x576 with 1 Axes>"
      ]
     },
     "metadata": {
      "needs_background": "light"
     },
     "output_type": "display_data"
    }
   ],
   "source": [
    "# Покажем местоположение всех подходящих вариантов размещения по первому критерию: \n",
    "#не дальше двух километров от Центарального рарка\n",
    "fig,ax = plt.subplots(1,1, figsize=(8,8))\n",
    "hosts_2km.plot(markersize = 30, ax = ax)\n",
    "central_park.plot(markersize=300,color='red',ax=ax)\n",
    "plt.title(\"Hosts near Central Park\")"
   ]
  },
  {
   "cell_type": "code",
   "execution_count": 92,
   "id": "9ae42af1",
   "metadata": {},
   "outputs": [
    {
     "data": {
      "text/html": [
       "<div>\n",
       "<style scoped>\n",
       "    .dataframe tbody tr th:only-of-type {\n",
       "        vertical-align: middle;\n",
       "    }\n",
       "\n",
       "    .dataframe tbody tr th {\n",
       "        vertical-align: top;\n",
       "    }\n",
       "\n",
       "    .dataframe thead th {\n",
       "        text-align: right;\n",
       "    }\n",
       "</style>\n",
       "<table border=\"1\" class=\"dataframe\">\n",
       "  <thead>\n",
       "    <tr style=\"text-align: right;\">\n",
       "      <th></th>\n",
       "      <th>index</th>\n",
       "      <th>id</th>\n",
       "      <th>host_id</th>\n",
       "      <th>host_name</th>\n",
       "      <th>neighbourhood_group</th>\n",
       "      <th>neighbourhood</th>\n",
       "      <th>latitude</th>\n",
       "      <th>longitude</th>\n",
       "      <th>room_type</th>\n",
       "      <th>price</th>\n",
       "      <th>minimum_nights</th>\n",
       "      <th>number_of_reviews</th>\n",
       "      <th>calculated_host_listings_count</th>\n",
       "      <th>availability_365</th>\n",
       "      <th>price_range</th>\n",
       "      <th>neighbourhood_group_num</th>\n",
       "      <th>neighbourhood_num</th>\n",
       "      <th>room_type_num</th>\n",
       "      <th>geometry</th>\n",
       "      <th>index_right</th>\n",
       "    </tr>\n",
       "  </thead>\n",
       "  <tbody>\n",
       "    <tr>\n",
       "      <th>7</th>\n",
       "      <td>10</td>\n",
       "      <td>5295</td>\n",
       "      <td>7702</td>\n",
       "      <td>Lena</td>\n",
       "      <td>Manhattan</td>\n",
       "      <td>Upper West Side</td>\n",
       "      <td>40.80316</td>\n",
       "      <td>-73.96545</td>\n",
       "      <td>Entire home/apt</td>\n",
       "      <td>135</td>\n",
       "      <td>5</td>\n",
       "      <td>53</td>\n",
       "      <td>1</td>\n",
       "      <td>6</td>\n",
       "      <td>Expensive</td>\n",
       "      <td>1</td>\n",
       "      <td>1</td>\n",
       "      <td>1</td>\n",
       "      <td>POINT (-73.965 40.803)</td>\n",
       "      <td>0</td>\n",
       "    </tr>\n",
       "    <tr>\n",
       "      <th>10</th>\n",
       "      <td>13</td>\n",
       "      <td>6021</td>\n",
       "      <td>11528</td>\n",
       "      <td>Claudio</td>\n",
       "      <td>Manhattan</td>\n",
       "      <td>Upper West Side</td>\n",
       "      <td>40.79826</td>\n",
       "      <td>-73.96113</td>\n",
       "      <td>Private room</td>\n",
       "      <td>85</td>\n",
       "      <td>2</td>\n",
       "      <td>113</td>\n",
       "      <td>1</td>\n",
       "      <td>333</td>\n",
       "      <td>Average</td>\n",
       "      <td>1</td>\n",
       "      <td>1</td>\n",
       "      <td>0</td>\n",
       "      <td>POINT (-73.961 40.798)</td>\n",
       "      <td>0</td>\n",
       "    </tr>\n",
       "    <tr>\n",
       "      <th>37</th>\n",
       "      <td>43</td>\n",
       "      <td>12318</td>\n",
       "      <td>16800</td>\n",
       "      <td>Cyn</td>\n",
       "      <td>Manhattan</td>\n",
       "      <td>Upper West Side</td>\n",
       "      <td>40.79009</td>\n",
       "      <td>-73.97927</td>\n",
       "      <td>Private room</td>\n",
       "      <td>135</td>\n",
       "      <td>4</td>\n",
       "      <td>81</td>\n",
       "      <td>1</td>\n",
       "      <td>273</td>\n",
       "      <td>Expensive</td>\n",
       "      <td>1</td>\n",
       "      <td>1</td>\n",
       "      <td>0</td>\n",
       "      <td>POINT (-73.979 40.790)</td>\n",
       "      <td>0</td>\n",
       "    </tr>\n",
       "    <tr>\n",
       "      <th>44</th>\n",
       "      <td>51</td>\n",
       "      <td>14287</td>\n",
       "      <td>56094</td>\n",
       "      <td>Joya</td>\n",
       "      <td>Manhattan</td>\n",
       "      <td>Upper West Side</td>\n",
       "      <td>40.78635</td>\n",
       "      <td>-73.97008</td>\n",
       "      <td>Entire home/apt</td>\n",
       "      <td>151</td>\n",
       "      <td>2</td>\n",
       "      <td>73</td>\n",
       "      <td>1</td>\n",
       "      <td>302</td>\n",
       "      <td>Expensive</td>\n",
       "      <td>1</td>\n",
       "      <td>1</td>\n",
       "      <td>1</td>\n",
       "      <td>POINT (-73.970 40.786)</td>\n",
       "      <td>0</td>\n",
       "    </tr>\n",
       "    <tr>\n",
       "      <th>86</th>\n",
       "      <td>96</td>\n",
       "      <td>21456</td>\n",
       "      <td>42032</td>\n",
       "      <td>Dana</td>\n",
       "      <td>Manhattan</td>\n",
       "      <td>Upper West Side</td>\n",
       "      <td>40.79764</td>\n",
       "      <td>-73.96177</td>\n",
       "      <td>Entire home/apt</td>\n",
       "      <td>140</td>\n",
       "      <td>3</td>\n",
       "      <td>81</td>\n",
       "      <td>1</td>\n",
       "      <td>198</td>\n",
       "      <td>Expensive</td>\n",
       "      <td>1</td>\n",
       "      <td>1</td>\n",
       "      <td>1</td>\n",
       "      <td>POINT (-73.962 40.798)</td>\n",
       "      <td>0</td>\n",
       "    </tr>\n",
       "  </tbody>\n",
       "</table>\n",
       "</div>"
      ],
      "text/plain": [
       "    index     id  host_id host_name neighbourhood_group    neighbourhood  \\\n",
       "7      10   5295     7702      Lena           Manhattan  Upper West Side   \n",
       "10     13   6021    11528   Claudio           Manhattan  Upper West Side   \n",
       "37     43  12318    16800       Cyn           Manhattan  Upper West Side   \n",
       "44     51  14287    56094      Joya           Manhattan  Upper West Side   \n",
       "86     96  21456    42032      Dana           Manhattan  Upper West Side   \n",
       "\n",
       "    latitude  longitude        room_type  price  minimum_nights  \\\n",
       "7   40.80316  -73.96545  Entire home/apt    135               5   \n",
       "10  40.79826  -73.96113     Private room     85               2   \n",
       "37  40.79009  -73.97927     Private room    135               4   \n",
       "44  40.78635  -73.97008  Entire home/apt    151               2   \n",
       "86  40.79764  -73.96177  Entire home/apt    140               3   \n",
       "\n",
       "    number_of_reviews  calculated_host_listings_count  availability_365  \\\n",
       "7                  53                               1                 6   \n",
       "10                113                               1               333   \n",
       "37                 81                               1               273   \n",
       "44                 73                               1               302   \n",
       "86                 81                               1               198   \n",
       "\n",
       "   price_range  neighbourhood_group_num  neighbourhood_num  room_type_num  \\\n",
       "7    Expensive                        1                  1              1   \n",
       "10     Average                        1                  1              0   \n",
       "37   Expensive                        1                  1              0   \n",
       "44   Expensive                        1                  1              1   \n",
       "86   Expensive                        1                  1              1   \n",
       "\n",
       "                  geometry  index_right  \n",
       "7   POINT (-73.965 40.803)            0  \n",
       "10  POINT (-73.961 40.798)            0  \n",
       "37  POINT (-73.979 40.790)            0  \n",
       "44  POINT (-73.970 40.786)            0  \n",
       "86  POINT (-73.962 40.798)            0  "
      ]
     },
     "execution_count": 92,
     "metadata": {},
     "output_type": "execute_result"
    }
   ],
   "source": [
    "hosts_2km.head(5)"
   ]
  },
  {
   "cell_type": "code",
   "execution_count": 93,
   "id": "2c862cda",
   "metadata": {},
   "outputs": [
    {
     "data": {
      "text/plain": [
       "745"
      ]
     },
     "execution_count": 93,
     "metadata": {},
     "output_type": "execute_result"
    }
   ],
   "source": [
    "#Далее применяем остальные критерии для поиска идеального варианта размещения:\n",
    "#стоимость размещения не дороже 145 $\n",
    "hosts_2cr = hosts_2km.query('price < 145')\n",
    "len(hosts_2cr)"
   ]
  },
  {
   "cell_type": "code",
   "execution_count": 94,
   "id": "c49f2ad0",
   "metadata": {},
   "outputs": [
    {
     "data": {
      "text/plain": [
       "410"
      ]
     },
     "execution_count": 94,
     "metadata": {},
     "output_type": "execute_result"
    }
   ],
   "source": [
    "#3 критерий. Минимальное кол-во ночей на которое можно забронировать размещение должно быть меньше 5\n",
    "hosts_3cr = hosts_2cr.query('minimum_nights < 5')\n",
    "len(hosts_3cr)"
   ]
  },
  {
   "cell_type": "code",
   "execution_count": 95,
   "id": "282e9595",
   "metadata": {},
   "outputs": [
    {
     "data": {
      "text/plain": [
       "291"
      ]
     },
     "execution_count": 95,
     "metadata": {},
     "output_type": "execute_result"
    }
   ],
   "source": [
    "# 4 критерий. Кол-во отзывов по объекту размещения должно быть больше 10 \n",
    "hosts_4cr = hosts_3cr.query('number_of_reviews > 10')\n",
    "len(hosts_4cr)"
   ]
  },
  {
   "cell_type": "code",
   "execution_count": 96,
   "id": "83e58076",
   "metadata": {},
   "outputs": [
    {
     "data": {
      "text/plain": [
       "66"
      ]
     },
     "execution_count": 96,
     "metadata": {},
     "output_type": "execute_result"
    }
   ],
   "source": [
    "#5 критерий. Размещение в типах комнат Entire home/apt или Private room\n",
    "hosts_5cr = hosts_4cr.query('room_type == \"Entire home/apt\"')\n",
    "len(hosts_5cr)"
   ]
  },
  {
   "cell_type": "markdown",
   "id": "39becc01",
   "metadata": {},
   "source": [
    "После того, как применили 5 критериев из 6, на выбор осталось 66 объектов для размещения. \n",
    "Выбирем те, объекты, которые ближе всего расположены к станциям метро (около 200 метров)\n",
    "\n"
   ]
  },
  {
   "cell_type": "code",
   "execution_count": 97,
   "id": "100d57de",
   "metadata": {},
   "outputs": [
    {
     "name": "stderr",
     "output_type": "stream",
     "text": [
      "/Users/dashalobik/opt/anaconda3/lib/python3.9/site-packages/pyproj/crs/crs.py:141: FutureWarning: '+init=<authority>:<code>' syntax is deprecated. '<authority>:<code>' is the preferred initialization method. When making the change, be mindful of axis order changes: https://pyproj4.github.io/pyproj/stable/gotchas.html#axis-order-changes-in-proj-6\n",
      "  in_crs_string = _prepare_from_proj_string(in_crs_string)\n"
     ]
    }
   ],
   "source": [
    "subways.crs = {'init' :'epsg:2263'}\n",
    "subways_buff = subways.buffer(.001 * 2)\n",
    "\n"
   ]
  },
  {
   "cell_type": "code",
   "execution_count": 98,
   "id": "d7ed8b6b",
   "metadata": {},
   "outputs": [],
   "source": [
    "subways_buff = gpd.GeoDataFrame({'geometry': subways_buff})\n",
    "subways_buff.crs = {'init' :'epsg:2263'}"
   ]
  },
  {
   "cell_type": "code",
   "execution_count": 99,
   "id": "8e056949",
   "metadata": {},
   "outputs": [],
   "source": [
    "hosts_5cr =hosts_5cr.rename(columns={'index_right': 'other_name'})"
   ]
  },
  {
   "cell_type": "code",
   "execution_count": 100,
   "id": "270a06c8",
   "metadata": {},
   "outputs": [
    {
     "data": {
      "text/plain": [
       "13"
      ]
     },
     "execution_count": 100,
     "metadata": {},
     "output_type": "execute_result"
    }
   ],
   "source": [
    "ideal_hosts = gpd.sjoin(hosts_5cr,subways_buff, how='inner', predicate ='intersects')\n",
    "len(ideal_hosts)"
   ]
  },
  {
   "cell_type": "markdown",
   "id": "84af83f0",
   "metadata": {},
   "source": [
    "**Идеальные варианты размещения в городе Нью-Йорк**\n",
    "\n",
    "Результом исследования является заключельный датасет с 13 объектами размещания, которые подходят по всем заданным критериям. \n",
    "Осталось просмотреть фотографии и забронировать номер"
   ]
  },
  {
   "cell_type": "code",
   "execution_count": 101,
   "id": "f20d2102",
   "metadata": {},
   "outputs": [
    {
     "data": {
      "text/html": [
       "<div>\n",
       "<style scoped>\n",
       "    .dataframe tbody tr th:only-of-type {\n",
       "        vertical-align: middle;\n",
       "    }\n",
       "\n",
       "    .dataframe tbody tr th {\n",
       "        vertical-align: top;\n",
       "    }\n",
       "\n",
       "    .dataframe thead th {\n",
       "        text-align: right;\n",
       "    }\n",
       "</style>\n",
       "<table border=\"1\" class=\"dataframe\">\n",
       "  <thead>\n",
       "    <tr style=\"text-align: right;\">\n",
       "      <th></th>\n",
       "      <th>host_id</th>\n",
       "      <th>host_name</th>\n",
       "      <th>neighbourhood</th>\n",
       "      <th>price</th>\n",
       "      <th>number_of_reviews</th>\n",
       "    </tr>\n",
       "  </thead>\n",
       "  <tbody>\n",
       "    <tr>\n",
       "      <th>86</th>\n",
       "      <td>42032</td>\n",
       "      <td>Dana</td>\n",
       "      <td>Upper West Side</td>\n",
       "      <td>140</td>\n",
       "      <td>81</td>\n",
       "    </tr>\n",
       "    <tr>\n",
       "      <th>242</th>\n",
       "      <td>317809</td>\n",
       "      <td>Claire</td>\n",
       "      <td>Upper West Side</td>\n",
       "      <td>115</td>\n",
       "      <td>210</td>\n",
       "    </tr>\n",
       "    <tr>\n",
       "      <th>3246</th>\n",
       "      <td>8658146</td>\n",
       "      <td>Michelle</td>\n",
       "      <td>Upper West Side</td>\n",
       "      <td>120</td>\n",
       "      <td>214</td>\n",
       "    </tr>\n",
       "    <tr>\n",
       "      <th>852</th>\n",
       "      <td>2216673</td>\n",
       "      <td>Joy</td>\n",
       "      <td>Upper West Side</td>\n",
       "      <td>90</td>\n",
       "      <td>22</td>\n",
       "    </tr>\n",
       "    <tr>\n",
       "      <th>981</th>\n",
       "      <td>2630351</td>\n",
       "      <td>Dawn</td>\n",
       "      <td>Upper West Side</td>\n",
       "      <td>102</td>\n",
       "      <td>36</td>\n",
       "    </tr>\n",
       "    <tr>\n",
       "      <th>18375</th>\n",
       "      <td>22309598</td>\n",
       "      <td>Ai</td>\n",
       "      <td>Upper West Side</td>\n",
       "      <td>119</td>\n",
       "      <td>12</td>\n",
       "    </tr>\n",
       "    <tr>\n",
       "      <th>2189</th>\n",
       "      <td>8362282</td>\n",
       "      <td>Drica 2017</td>\n",
       "      <td>Upper West Side</td>\n",
       "      <td>125</td>\n",
       "      <td>15</td>\n",
       "    </tr>\n",
       "    <tr>\n",
       "      <th>2524</th>\n",
       "      <td>4259154</td>\n",
       "      <td>Christine</td>\n",
       "      <td>Upper West Side</td>\n",
       "      <td>130</td>\n",
       "      <td>87</td>\n",
       "    </tr>\n",
       "    <tr>\n",
       "      <th>7177</th>\n",
       "      <td>49903913</td>\n",
       "      <td>Lily</td>\n",
       "      <td>Upper West Side</td>\n",
       "      <td>90</td>\n",
       "      <td>171</td>\n",
       "    </tr>\n",
       "    <tr>\n",
       "      <th>24758</th>\n",
       "      <td>244008816</td>\n",
       "      <td>David</td>\n",
       "      <td>Upper West Side</td>\n",
       "      <td>120</td>\n",
       "      <td>19</td>\n",
       "    </tr>\n",
       "    <tr>\n",
       "      <th>12758</th>\n",
       "      <td>1366844</td>\n",
       "      <td>Ali</td>\n",
       "      <td>Harlem</td>\n",
       "      <td>135</td>\n",
       "      <td>71</td>\n",
       "    </tr>\n",
       "    <tr>\n",
       "      <th>21933</th>\n",
       "      <td>10842596</td>\n",
       "      <td>Ruth</td>\n",
       "      <td>Morningside Heights</td>\n",
       "      <td>100</td>\n",
       "      <td>24</td>\n",
       "    </tr>\n",
       "    <tr>\n",
       "      <th>17284</th>\n",
       "      <td>188169807</td>\n",
       "      <td>David</td>\n",
       "      <td>Upper West Side</td>\n",
       "      <td>120</td>\n",
       "      <td>16</td>\n",
       "    </tr>\n",
       "  </tbody>\n",
       "</table>\n",
       "</div>"
      ],
      "text/plain": [
       "         host_id   host_name        neighbourhood  price  number_of_reviews\n",
       "86         42032        Dana      Upper West Side    140                 81\n",
       "242       317809      Claire      Upper West Side    115                210\n",
       "3246     8658146    Michelle      Upper West Side    120                214\n",
       "852      2216673         Joy      Upper West Side     90                 22\n",
       "981      2630351        Dawn      Upper West Side    102                 36\n",
       "18375   22309598          Ai      Upper West Side    119                 12\n",
       "2189     8362282  Drica 2017      Upper West Side    125                 15\n",
       "2524     4259154   Christine      Upper West Side    130                 87\n",
       "7177    49903913        Lily      Upper West Side     90                171\n",
       "24758  244008816       David      Upper West Side    120                 19\n",
       "12758    1366844         Ali               Harlem    135                 71\n",
       "21933   10842596        Ruth  Morningside Heights    100                 24\n",
       "17284  188169807       David      Upper West Side    120                 16"
      ]
     },
     "execution_count": 101,
     "metadata": {},
     "output_type": "execute_result"
    }
   ],
   "source": [
    "ideal_hosts[['host_id', 'host_name', 'neighbourhood', 'price', 'number_of_reviews']]\n"
   ]
  },
  {
   "cell_type": "markdown",
   "id": "4d1776b5",
   "metadata": {},
   "source": [
    "Все подходящие варианты размещения оказались предложениями от частных лиц. Можем сделать предположение, что номера в отелях стоят дороже, чем квартиры/дома в объявлениях частных лиц.\n",
    "11 из 13 объектов расположены в районе Верхний Вест Сайд. Стоимость идеального объекта размещения от 90 до 140 долларов\n"
   ]
  },
  {
   "cell_type": "code",
   "execution_count": null,
   "id": "bb8b128c",
   "metadata": {},
   "outputs": [],
   "source": []
  }
 ],
 "metadata": {
  "kernelspec": {
   "display_name": "Python 3 (ipykernel)",
   "language": "python",
   "name": "python3"
  },
  "language_info": {
   "codemirror_mode": {
    "name": "ipython",
    "version": 3
   },
   "file_extension": ".py",
   "mimetype": "text/x-python",
   "name": "python",
   "nbconvert_exporter": "python",
   "pygments_lexer": "ipython3",
   "version": "3.9.12"
  }
 },
 "nbformat": 4,
 "nbformat_minor": 5
}
